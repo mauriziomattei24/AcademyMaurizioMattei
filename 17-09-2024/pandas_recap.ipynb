{
 "cells": [
  {
   "cell_type": "code",
   "execution_count": 1,
   "metadata": {},
   "outputs": [],
   "source": [
    "import pandas as pd\n",
    "import numpy as np"
   ]
  },
  {
   "cell_type": "code",
   "execution_count": null,
   "metadata": {},
   "outputs": [],
   "source": [
    "nomi_iniziali = [\"Andrea\",\"Giovanni\",\"Francesca\",\"Sara\",\"Riccardo\", \"Alessia\", \"Davide\", \"Federica\",\"Lorenzo\", \"Marcello\", \"Valeria\", \"Renato\", \"Alice\"]\n",
    "indici_casuali_n = np.random.randint(0,len(nomi_iniziali),size = 7)\n",
    "\n",
    "nomi_casuali = [nomi_iniziali[i] for i in indici_casuali_n]\n",
    "nomi_casuali"
   ]
  },
  {
   "cell_type": "code",
   "execution_count": null,
   "metadata": {},
   "outputs": [],
   "source": [
    "citta_iniziali = [\"Ancona\",\"Bari\",\"Como\", \"Domodossola\", \"Firenze\", \"Genova\", \"Imola\",\"Lugano\" ]\n",
    "indici_casuali_c = np.random.randint(0,len(citta_iniziali),size = )\n",
    "\n",
    "citta_casuali = [citta_iniziali[i] for i in indici_casuali_c]\n",
    "citta_casuali"
   ]
  },
  {
   "cell_type": "code",
   "execution_count": null,
   "metadata": {},
   "outputs": [],
   "source": [
    "eta = np.linspace(18,65,len(nomi_casuali),dtype = \"int\")\n",
    "eta"
   ]
  },
  {
   "cell_type": "code",
   "execution_count": null,
   "metadata": {},
   "outputs": [],
   "source": [
    "salario = np.linspace(1000,3000, len(nomi_casuali), dtype = \"int\")\n",
    "salario"
   ]
  },
  {
   "cell_type": "code",
   "execution_count": null,
   "metadata": {},
   "outputs": [],
   "source": [
    "data = {'Nome': nomi_casuali,'Età': eta,'Città': citta_casuali, \"Salario\": salario}\n",
    "df = pd.DataFrame(data)\n",
    "df.head()"
   ]
  },
  {
   "cell_type": "code",
   "execution_count": null,
   "metadata": {},
   "outputs": [],
   "source": [
    "df.tail()"
   ]
  },
  {
   "cell_type": "code",
   "execution_count": null,
   "metadata": {},
   "outputs": [],
   "source": [
    "df.dtypes"
   ]
  },
  {
   "cell_type": "code",
   "execution_count": null,
   "metadata": {},
   "outputs": [],
   "source": [
    "print(df[[\"Età\", \"Salario\"]].mean())\n",
    "print(df[['Età', 'Salario']].median())\n",
    "print(df[['Età', 'Salario']].std())"
   ]
  },
  {
   "cell_type": "code",
   "execution_count": null,
   "metadata": {},
   "outputs": [],
   "source": [
    "print(df.drop_duplicates())\n"
   ]
  },
  {
   "cell_type": "code",
   "execution_count": null,
   "metadata": {},
   "outputs": [],
   "source": [
    "df.loc[len(df)] = [np.nan] * len(df.columns)\n",
    "df"
   ]
  },
  {
   "cell_type": "code",
   "execution_count": 12,
   "metadata": {},
   "outputs": [],
   "source": [
    "mediane = df[['Età', 'Salario']].median()\n",
    "df[['Età', 'Salario']] = df[['Età', 'Salario']].fillna(mediane)"
   ]
  },
  {
   "cell_type": "code",
   "execution_count": null,
   "metadata": {},
   "outputs": [],
   "source": [
    "df"
   ]
  },
  {
   "cell_type": "code",
   "execution_count": null,
   "metadata": {},
   "outputs": [],
   "source": [
    "def classificazione_eta(eta):\n",
    "    if eta <= 18:\n",
    "        return 'Giovane'\n",
    "    elif 19 <= eta <= 65:\n",
    "        return 'Adulto'\n",
    "    else:\n",
    "        return 'Senior'\n",
    "\n",
    "df['Categoria Età'] = df['Età'].apply(classificazione_eta)\n",
    "\n",
    "\n"
   ]
  },
  {
   "cell_type": "code",
   "execution_count": 16,
   "metadata": {},
   "outputs": [],
   "source": [
    "df.to_csv(\"df_es_pandas.csv\", index=False) "
   ]
  }
 ],
 "metadata": {
  "kernelspec": {
   "display_name": "Python 3",
   "language": "python",
   "name": "python3"
  },
  "language_info": {
   "codemirror_mode": {
    "name": "ipython",
    "version": 3
   },
   "file_extension": ".py",
   "mimetype": "text/x-python",
   "name": "python",
   "nbconvert_exporter": "python",
   "pygments_lexer": "ipython3",
   "version": "3.12.6"
  }
 },
 "nbformat": 4,
 "nbformat_minor": 2
}
