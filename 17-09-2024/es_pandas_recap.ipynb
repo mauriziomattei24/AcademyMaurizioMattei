{
 "cells": [
  {
   "cell_type": "code",
   "execution_count": 1,
   "metadata": {},
   "outputs": [],
   "source": [
    "import pandas as pd\n",
    "import numpy as np\n",
    "import datetime"
   ]
  },
  {
   "cell_type": "code",
   "execution_count": 2,
   "metadata": {},
   "outputs": [
    {
     "data": {
      "text/plain": [
       "DatetimeIndex(['2024-09-01', '2024-09-02', '2024-09-03', '2024-09-04',\n",
       "               '2024-09-05', '2024-09-06', '2024-09-07', '2024-09-08',\n",
       "               '2024-09-09', '2024-09-10', '2024-09-11', '2024-09-12',\n",
       "               '2024-09-13', '2024-09-14', '2024-09-15', '2024-09-16',\n",
       "               '2024-09-17', '2024-09-18', '2024-09-19', '2024-09-20',\n",
       "               '2024-09-21', '2024-09-22', '2024-09-23', '2024-09-24',\n",
       "               '2024-09-25', '2024-09-26', '2024-09-27', '2024-09-28',\n",
       "               '2024-09-29', '2024-09-30'],\n",
       "              dtype='datetime64[ns]', freq='D')"
      ]
     },
     "execution_count": 2,
     "metadata": {},
     "output_type": "execute_result"
    }
   ],
   "source": [
    "date_range = pd.date_range(start='2024-09-01', end='2024-09-30', freq='D')\n",
    "date_range"
   ]
  },
  {
   "cell_type": "code",
   "execution_count": 3,
   "metadata": {},
   "outputs": [],
   "source": [
    "città = ['Roma', 'Milano', 'Napoli']\n",
    "prodotti = ['Penna', 'Quaderno', 'Libro']"
   ]
  },
  {
   "cell_type": "code",
   "execution_count": 4,
   "metadata": {},
   "outputs": [],
   "source": [
    "data = []\n",
    "for date in date_range:\n",
    "    città_nome = np.random.choice(città)\n",
    "    prodotto = np.random.choice(prodotti)\n",
    "    vendite = np.random.randint(50, 500)\n",
    "    data.append([date, città_nome, prodotto, vendite])"
   ]
  },
  {
   "cell_type": "code",
   "execution_count": 5,
   "metadata": {},
   "outputs": [
    {
     "data": {
      "text/html": [
       "<div>\n",
       "<style scoped>\n",
       "    .dataframe tbody tr th:only-of-type {\n",
       "        vertical-align: middle;\n",
       "    }\n",
       "\n",
       "    .dataframe tbody tr th {\n",
       "        vertical-align: top;\n",
       "    }\n",
       "\n",
       "    .dataframe thead th {\n",
       "        text-align: right;\n",
       "    }\n",
       "</style>\n",
       "<table border=\"1\" class=\"dataframe\">\n",
       "  <thead>\n",
       "    <tr style=\"text-align: right;\">\n",
       "      <th></th>\n",
       "      <th>Data</th>\n",
       "      <th>Città</th>\n",
       "      <th>Prodotto</th>\n",
       "      <th>Vendite</th>\n",
       "    </tr>\n",
       "  </thead>\n",
       "  <tbody>\n",
       "    <tr>\n",
       "      <th>0</th>\n",
       "      <td>2024-09-01</td>\n",
       "      <td>Napoli</td>\n",
       "      <td>Quaderno</td>\n",
       "      <td>273</td>\n",
       "    </tr>\n",
       "    <tr>\n",
       "      <th>1</th>\n",
       "      <td>2024-09-02</td>\n",
       "      <td>Milano</td>\n",
       "      <td>Quaderno</td>\n",
       "      <td>115</td>\n",
       "    </tr>\n",
       "    <tr>\n",
       "      <th>2</th>\n",
       "      <td>2024-09-03</td>\n",
       "      <td>Milano</td>\n",
       "      <td>Quaderno</td>\n",
       "      <td>392</td>\n",
       "    </tr>\n",
       "    <tr>\n",
       "      <th>3</th>\n",
       "      <td>2024-09-04</td>\n",
       "      <td>Roma</td>\n",
       "      <td>Libro</td>\n",
       "      <td>488</td>\n",
       "    </tr>\n",
       "    <tr>\n",
       "      <th>4</th>\n",
       "      <td>2024-09-05</td>\n",
       "      <td>Napoli</td>\n",
       "      <td>Libro</td>\n",
       "      <td>156</td>\n",
       "    </tr>\n",
       "  </tbody>\n",
       "</table>\n",
       "</div>"
      ],
      "text/plain": [
       "        Data   Città  Prodotto  Vendite\n",
       "0 2024-09-01  Napoli  Quaderno      273\n",
       "1 2024-09-02  Milano  Quaderno      115\n",
       "2 2024-09-03  Milano  Quaderno      392\n",
       "3 2024-09-04    Roma     Libro      488\n",
       "4 2024-09-05  Napoli     Libro      156"
      ]
     },
     "execution_count": 5,
     "metadata": {},
     "output_type": "execute_result"
    }
   ],
   "source": [
    "df = pd.DataFrame(data, columns=['Data', 'Città', 'Prodotto', 'Vendite'])\n",
    "df.head()"
   ]
  },
  {
   "cell_type": "markdown",
   "metadata": {},
   "source": [
    "Creazione della Tabella Pivot: Creare una tabella pivot per analizzare\n",
    "le vendite medie di ciascun prodotto per città."
   ]
  },
  {
   "cell_type": "code",
   "execution_count": 6,
   "metadata": {},
   "outputs": [
    {
     "name": "stdout",
     "output_type": "stream",
     "text": [
      "Città         Milano  Napoli    Roma\n",
      "Prodotto                            \n",
      "Libro            NaN   313.0  233.75\n",
      "Penna     326.500000   181.0  251.00\n",
      "Quaderno  251.285714   339.0  270.00\n"
     ]
    }
   ],
   "source": [
    "pivot_df = df.pivot_table(values=\"Vendite\", index = \"Prodotto\", columns = \"Città\", aggfunc= \"mean\")\n",
    "print(pivot_df)\n"
   ]
  },
  {
   "cell_type": "markdown",
   "metadata": {},
   "source": [
    "Applicazione di GroupBy: Utilizzare il metodo groupby per calcolare le\n",
    "vendite totali per ogni prodotto."
   ]
  },
  {
   "cell_type": "code",
   "execution_count": 7,
   "metadata": {},
   "outputs": [
    {
     "name": "stdout",
     "output_type": "stream",
     "text": [
      "Prodotto\n",
      "Libro       2500\n",
      "Penna       1738\n",
      "Quaderno    4126\n",
      "Name: Vendite, dtype: int64\n"
     ]
    }
   ],
   "source": [
    "vendite_totali_per_prodotto = df.groupby('Prodotto')['Vendite'].sum()\n",
    "print(vendite_totali_per_prodotto)"
   ]
  }
 ],
 "metadata": {
  "kernelspec": {
   "display_name": "Python 3",
   "language": "python",
   "name": "python3"
  },
  "language_info": {
   "codemirror_mode": {
    "name": "ipython",
    "version": 3
   },
   "file_extension": ".py",
   "mimetype": "text/x-python",
   "name": "python",
   "nbconvert_exporter": "python",
   "pygments_lexer": "ipython3",
   "version": "3.12.6"
  }
 },
 "nbformat": 4,
 "nbformat_minor": 2
}
