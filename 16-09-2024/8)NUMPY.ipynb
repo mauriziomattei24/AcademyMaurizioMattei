{
 "cells": [
  {
   "cell_type": "markdown",
   "id": "19d6a15c",
   "metadata": {},
   "source": [
    "<img src=\"https://miro.medium.com/max/765/1*cyXCE-JcBelTyrK-58w6_Q.png\" alt=\"350\" width=\"400\" align=\"left\"/>"
   ]
  },
  {
   "cell_type": "markdown",
   "id": "7b79927d",
   "metadata": {},
   "source": [
    "<h2> Cos'è NumPy? </h2>\n",
    "\n",
    "<ul>\n",
    "\n",
    "<li>NumPy è una libreria Python utilizzata per lavorare con gli array.</li>\n",
    "\n",
    "<li>Dispone anche di funzioni per lavorare nel dominio dell'algebra lineare, della trasformata di Fourier e delle matrici.</li>\n",
    "\n",
    "<li>NumPy è stato creato nel 2005 da Travis Oliphant. È un progetto open source e puoi usarlo liberamente.</li>\n",
    "\n",
    "<li>NumPy sta per Python numerico.</li>\n",
    "<li>NumPy è una libreria Python ed è scritta parzialmente in Python, ma la maggior parte delle parti che richiedono calcoli veloci sono scritte in C o C++.</li>\n",
    "</ul>"
   ]
  },
  {
   "cell_type": "markdown",
   "id": "609abc17",
   "metadata": {},
   "source": [
    "<h2>Perché usare NumPy?</h2>\n",
    "<ul>\n",
    "<li>In Python abbiamo elenchi che servono allo scopo di array, ma sono lenti da elaborare.</li>\n",
    "\n",
    "<li>NumPy mira a fornire un oggetto array fino a 50 volte più veloce rispetto ai tradizionali elenchi Python.</li>\n",
    "\n",
    "<li>L'oggetto array in NumPy si chiama ndarray e fornisce molte funzioni di supporto che rendono molto semplice lavorare con ndarray.</li>\n",
    "\n",
    "<li>Gli array vengono utilizzati molto frequentemente nella scienza dei dati, dove la velocità e le risorse sono molto importanti.</li>\n",
    "</ul>"
   ]
  },
  {
   "cell_type": "markdown",
   "id": "dee148d3",
   "metadata": {},
   "source": [
    "## Numpy Ndarray"
   ]
  },
  {
   "cell_type": "markdown",
   "id": "e5f4ad00",
   "metadata": {},
   "source": [
    "<img src=\"https://miro.medium.com/max/831/1*R0wH6D43-rzG7ivvEhSFkA.png\" alt=\"500\" width=\"600\" align=\"left\"/>"
   ]
  },
  {
   "cell_type": "code",
   "execution_count": null,
   "id": "a6ddd449",
   "metadata": {},
   "outputs": [],
   "source": [
    "import numpy as np #import numpy library"
   ]
  },
  {
   "cell_type": "code",
   "execution_count": null,
   "id": "747cc835",
   "metadata": {},
   "outputs": [],
   "source": [
    "arr_1d= np.array([1, 2, 3, 4, 5]) #1d array\n",
    "\n",
    "arr_2d = np.array([[1, 2, 3, 4], \n",
    "                   [5, 6, 7, 8],\n",
    "                   [9, 10, 11, 12]]) #2d array -> matrix"
   ]
  },
  {
   "cell_type": "code",
   "execution_count": null,
   "id": "ecb87174",
   "metadata": {},
   "outputs": [],
   "source": [
    "print(arr_1d)"
   ]
  },
  {
   "cell_type": "code",
   "execution_count": null,
   "id": "38777393",
   "metadata": {},
   "outputs": [],
   "source": [
    "print(arr_2d)"
   ]
  },
  {
   "cell_type": "markdown",
   "id": "30e3cb71",
   "metadata": {},
   "source": [
    "**1D Array Operations:**"
   ]
  },
  {
   "cell_type": "code",
   "execution_count": null,
   "id": "93b85a2e",
   "metadata": {},
   "outputs": [],
   "source": [
    "arr_1d= np.array([1, 2, 3, 4, 5]) #1d array"
   ]
  },
  {
   "cell_type": "code",
   "execution_count": null,
   "id": "ec116260",
   "metadata": {},
   "outputs": [],
   "source": [
    "arr_1d.ndim #1d array -> 1 dimension"
   ]
  },
  {
   "cell_type": "code",
   "execution_count": null,
   "id": "c4a999b3",
   "metadata": {},
   "outputs": [],
   "source": [
    "arr_1d.size #number of elements"
   ]
  },
  {
   "cell_type": "code",
   "execution_count": null,
   "id": "d78eb4c6",
   "metadata": {},
   "outputs": [],
   "source": [
    "arr_1d.min()"
   ]
  },
  {
   "cell_type": "code",
   "execution_count": null,
   "id": "9e2239a0",
   "metadata": {},
   "outputs": [],
   "source": [
    "arr_1d.max()"
   ]
  },
  {
   "cell_type": "code",
   "execution_count": null,
   "id": "2f933e54",
   "metadata": {},
   "outputs": [],
   "source": [
    "arr_1d.sum()"
   ]
  },
  {
   "cell_type": "code",
   "execution_count": null,
   "id": "f1c271c1",
   "metadata": {},
   "outputs": [],
   "source": [
    "np.arange(4) #array with range of numbers [0,4(not included)]"
   ]
  },
  {
   "cell_type": "code",
   "execution_count": null,
   "id": "140d9129",
   "metadata": {},
   "outputs": [],
   "source": [
    "np.arange(0,11,2) #stepover"
   ]
  },
  {
   "cell_type": "code",
   "execution_count": null,
   "id": "232b1057",
   "metadata": {},
   "outputs": [],
   "source": [
    "#Restituisce numeri equidistanti in un intervallo specificato:\n",
    "\n",
    "np.linspace(0, 10, 5, dtype=float) #(stop number included in this case)"
   ]
  },
  {
   "cell_type": "markdown",
   "id": "56394d46",
   "metadata": {},
   "source": [
    "**2D Array Operations (MATRIX):**"
   ]
  },
  {
   "cell_type": "code",
   "execution_count": null,
   "id": "a5e76684",
   "metadata": {},
   "outputs": [],
   "source": [
    "arr_2d = np.array([[1, 2, 3, 4], \n",
    "                   [5, 6, 7, 8],\n",
    "                   [9, 10, 11, 12],\n",
    "                   [1, 2, 3, 4]]) #2d array -> matrix"
   ]
  },
  {
   "cell_type": "code",
   "execution_count": null,
   "id": "e66fa00b",
   "metadata": {},
   "outputs": [],
   "source": [
    "arr_2d.ndim #2d array (matrix) -> 2 dimensions"
   ]
  },
  {
   "cell_type": "code",
   "execution_count": null,
   "id": "bb3d3c1c",
   "metadata": {},
   "outputs": [],
   "source": [
    "arr_2d.size #number of elements"
   ]
  },
  {
   "cell_type": "code",
   "execution_count": null,
   "id": "589d5a82",
   "metadata": {},
   "outputs": [],
   "source": [
    "arr_2d.shape #m rows, n columns (mxn)"
   ]
  },
  {
   "cell_type": "code",
   "execution_count": null,
   "id": "7009043e",
   "metadata": {},
   "outputs": [],
   "source": [
    "arr_2d.min()"
   ]
  },
  {
   "cell_type": "code",
   "execution_count": null,
   "id": "4cd26108",
   "metadata": {},
   "outputs": [],
   "source": [
    "arr_2d.max()"
   ]
  },
  {
   "cell_type": "code",
   "execution_count": null,
   "id": "3bb966c8",
   "metadata": {},
   "outputs": [],
   "source": [
    "arr_2d.sum()"
   ]
  },
  {
   "cell_type": "code",
   "execution_count": null,
   "id": "fc2e7c44",
   "metadata": {},
   "outputs": [],
   "source": [
    "arr_2d.mean()"
   ]
  },
  {
   "cell_type": "code",
   "execution_count": null,
   "id": "3dd5bd82",
   "metadata": {},
   "outputs": [],
   "source": [
    "#Il valore mediano è il valore al centro, dopo aver ordinato tutti i valori:\n",
    "np.median(arr_2d)"
   ]
  },
  {
   "cell_type": "code",
   "execution_count": null,
   "id": "7eaa70d8",
   "metadata": {},
   "outputs": [],
   "source": [
    "#Il valore Modale è il valore che appare il maggior numero di volte nell'array.\n",
    "\"\"\"\n",
    "Per poterlo calcolare abbiamo bisogno della libreria Scipy:\n",
    "\n",
    "SciPy è una libreria di calcoli scientifici che utilizza NumPy come base.\n",
    "\n",
    "SciPy sta per Scientific Python, fornisce più funzioni di utilità per l'ottimizzazione, \n",
    "le statistiche e l'elaborazione del segnale.\n",
    "\n",
    "Come NumPy, SciPy è open source, quindi possiamo usarlo liberamente.\n",
    "\n",
    "SciPy è stato creato dal creatore di NumPy Travis Olliphant.\n",
    "\"\"\"\n",
    "from scipy import stats\n",
    "\n",
    "stats.mode(arr_2d)\n"
   ]
  },
  {
   "cell_type": "markdown",
   "id": "811b5336",
   "metadata": {},
   "source": [
    "<h1>Unire gli array NumPy</h1>\n",
    "Unire significa mettere il contenuto di due o più array in un unico array.\n",
    "\n",
    "In NumPy per unire gli array bidimensionali dobbiamo tenere conto degli assi.\n",
    "\n",
    "Per unirli dobbiamo passare una sequenza di array alla funzione <u>concatenate()</u> e in non fosse unidimensionale anche l'asse. Se l'asse non viene passato esplicitamente, viene considerato come 0."
   ]
  },
  {
   "cell_type": "code",
   "execution_count": null,
   "id": "4ea63252",
   "metadata": {},
   "outputs": [],
   "source": [
    "arr1 = np.array([1, 2, 3])\n",
    "\n",
    "arr2 = np.array([4, 5, 6])\n",
    "\n",
    "arr = np.concatenate((arr1, arr2))\n",
    "\n",
    "print(arr)"
   ]
  },
  {
   "cell_type": "code",
   "execution_count": null,
   "id": "e4808de4",
   "metadata": {},
   "outputs": [],
   "source": [
    "arr1 = np.array([[1, 2], \n",
    "                 [3, 4]])\n",
    "\n",
    "arr2 = np.array([[5, 6], \n",
    "                 [7, 8]])\n",
    "\n",
    "arr = np.concatenate((arr1, arr2), axis=0)\n",
    "\n",
    "print(arr)"
   ]
  },
  {
   "cell_type": "code",
   "execution_count": null,
   "id": "d701cf75",
   "metadata": {},
   "outputs": [],
   "source": [
    "arr = np.concatenate((arr1, arr2), axis=1)\n",
    "\n",
    "print(arr)"
   ]
  },
  {
   "cell_type": "markdown",
   "id": "5ede017d",
   "metadata": {},
   "source": [
    "**Access Items:**"
   ]
  },
  {
   "cell_type": "markdown",
   "id": "fc7c2a47",
   "metadata": {},
   "source": [
    "<img src=\"https://numpy.org/doc/stable/_images/np_matrix_indexing.png\" alt=\"600\" width=\"700\" align=\"left\"/>"
   ]
  },
  {
   "cell_type": "code",
   "execution_count": null,
   "id": "6cdc0e5f",
   "metadata": {},
   "outputs": [],
   "source": [
    "arr_2d = np.array([[1, 2, 3, 4], \n",
    "                   [5, 6, 7, 8],\n",
    "                   [9, 10, 11, 12]]) #2d array -> matrix"
   ]
  },
  {
   "cell_type": "code",
   "execution_count": null,
   "id": "3be8d690",
   "metadata": {},
   "outputs": [],
   "source": [
    "#First element: first row/column (1)\n",
    "\n",
    "arr_2d[0,0] # [row index, col index]"
   ]
  },
  {
   "cell_type": "code",
   "execution_count": null,
   "id": "bff87ada",
   "metadata": {},
   "outputs": [],
   "source": [
    "#Only first row\n",
    "\n",
    "arr_2d[0, :] # same thing -> arr_2d[0]"
   ]
  },
  {
   "cell_type": "code",
   "execution_count": null,
   "id": "9a325d95",
   "metadata": {},
   "outputs": [],
   "source": [
    "#Only first column\n",
    "\n",
    "arr_2d[:,0]"
   ]
  },
  {
   "cell_type": "markdown",
   "id": "b883ff39",
   "metadata": {},
   "source": [
    "**Useful Numpy Functions:**"
   ]
  },
  {
   "cell_type": "markdown",
   "id": "a7ff73d5",
   "metadata": {},
   "source": [
    "<img src=\"https://numpy.org/doc/stable/_images/np_ones_zeros_matrix.png\" width=\"700\" align=\"left\"/>"
   ]
  },
  {
   "cell_type": "code",
   "execution_count": null,
   "id": "f28713ae",
   "metadata": {},
   "outputs": [],
   "source": [
    "np.zeros(2) #1D  -> float numbers by default"
   ]
  },
  {
   "cell_type": "code",
   "execution_count": null,
   "id": "17486230",
   "metadata": {},
   "outputs": [],
   "source": [
    "np.zeros(2, dtype=int) #with integer numbers"
   ]
  },
  {
   "cell_type": "code",
   "execution_count": null,
   "id": "47dba569",
   "metadata": {},
   "outputs": [],
   "source": [
    "np.zeros((2,2)) #2D MATRIX"
   ]
  },
  {
   "cell_type": "code",
   "execution_count": null,
   "id": "32609713",
   "metadata": {},
   "outputs": [],
   "source": [
    "np.ones(2) #1D"
   ]
  },
  {
   "cell_type": "code",
   "execution_count": null,
   "id": "5717a12d",
   "metadata": {},
   "outputs": [],
   "source": [
    "np.ones((2,2)) #2D MATRIX"
   ]
  },
  {
   "cell_type": "code",
   "execution_count": null,
   "id": "2a8e1cef",
   "metadata": {},
   "outputs": [],
   "source": [
    "np.random.random(3) #1D -> Return random floats in the half-open interval [0.0, 1.0]"
   ]
  },
  {
   "cell_type": "code",
   "execution_count": null,
   "id": "cd6e6a49",
   "metadata": {},
   "outputs": [],
   "source": [
    "np.random.random((3,2)) #2D MATRIX"
   ]
  },
  {
   "cell_type": "code",
   "execution_count": null,
   "id": "d3bc3f9d",
   "metadata": {},
   "outputs": [],
   "source": [
    "np.random.randint(0,100,(3,2)) #2D MATRIX"
   ]
  },
  {
   "cell_type": "markdown",
   "id": "b84e0f58",
   "metadata": {},
   "source": [
    "<h1>Cos'è la deviazione standard?</h1>\n",
    "La deviazione standard è un numero che descrive la distribuzione dei valori.\n",
    "\n",
    "Una deviazione standard bassa significa che la maggior parte dei numeri sono vicini al valore medio (medio).\n",
    "\n",
    "Una deviazione standard elevata significa che i valori sono distribuiti su un intervallo più ampio."
   ]
  },
  {
   "cell_type": "code",
   "execution_count": null,
   "id": "0c89ec5c",
   "metadata": {},
   "outputs": [],
   "source": [
    "elements = np.random.randint(0,1000,(1,10))\n",
    "\n",
    "\n",
    "x = np.std(elements)\n",
    "print(elements)\n",
    "print(x)"
   ]
  },
  {
   "cell_type": "markdown",
   "id": "dea418f4",
   "metadata": {},
   "source": [
    "<h1>Cosa sono i percentili?</h1>\n",
    "\n",
    "I percentili vengono utilizzati nelle statistiche per fornire un numero che descrive il valore a cui è inferiore una determinata percentuale dei valori.\n",
    "\n",
    "Esempio: supponiamo di avere un array delle età di tutte le persone che vivono in una strada.\n",
    "Qual è il 75° percentile? La risposta è 43, il che significa che il 75% delle persone ha 43 anni o meno."
   ]
  },
  {
   "cell_type": "code",
   "execution_count": null,
   "id": "428bf584",
   "metadata": {},
   "outputs": [],
   "source": [
    "ages = [5,31,43,48,50,41,7,11,15,39,80,82,32,2,8,6,25,36,27,61,31]\n",
    "\n",
    "x = np.percentile(ages, 75)\n",
    "\n",
    "print(x)"
   ]
  },
  {
   "cell_type": "markdown",
   "id": "407c5075",
   "metadata": {},
   "source": [
    "<img src=\"https://www.w3resource.com/w3r_images/numpy-array-eye-function-image-1-b.png\" width=\"200\" align=\"left\"/>"
   ]
  },
  {
   "cell_type": "code",
   "execution_count": null,
   "id": "7fb85aae",
   "metadata": {},
   "outputs": [],
   "source": [
    "np.eye(2) #IDENTITY MATRIX 3x3"
   ]
  },
  {
   "cell_type": "markdown",
   "id": "d19a7045",
   "metadata": {},
   "source": [
    "**Reshape Array (modificare dimensioni): Gives a new shape to an array without changing its data.**"
   ]
  },
  {
   "cell_type": "markdown",
   "id": "76664048",
   "metadata": {},
   "source": [
    "<img src=\"https://numpy.org/doc/stable/_images/np_reshape.png\" width=\"600\" align=\"left\"/>"
   ]
  },
  {
   "cell_type": "code",
   "execution_count": null,
   "id": "6e791bbb",
   "metadata": {},
   "outputs": [],
   "source": [
    "arr_2d = np.array([[1, 2, 3, 4], \n",
    "                   [5, 6, 7, 8],\n",
    "                   [9, 10, 11, 12]]) #2D ARRAY 3X4"
   ]
  },
  {
   "cell_type": "code",
   "execution_count": null,
   "id": "cc5711d8",
   "metadata": {},
   "outputs": [],
   "source": [
    "arr_2d_res = arr_2d.reshape(4,3) #2D ARRAY 4X3\n",
    "print(arr_2d_res)"
   ]
  },
  {
   "cell_type": "markdown",
   "id": "292bb520",
   "metadata": {},
   "source": [
    "**Boolean Indexing**:"
   ]
  },
  {
   "cell_type": "code",
   "execution_count": null,
   "id": "e3e9ad95",
   "metadata": {},
   "outputs": [],
   "source": [
    "arr_1d= np.array([1, 2, 3, 4, 5]) #1d array"
   ]
  },
  {
   "cell_type": "code",
   "execution_count": null,
   "id": "42774081",
   "metadata": {},
   "outputs": [],
   "source": [
    "print(arr_1d < 3) #RETURN BOOLEAN VALUES"
   ]
  },
  {
   "cell_type": "code",
   "execution_count": null,
   "id": "928d83ab",
   "metadata": {},
   "outputs": [],
   "source": [
    "print(arr_1d[arr_1d < 3]) #FILTER: RETURN ARRAY ELEMENTS THAT MEET THE CONDITION"
   ]
  },
  {
   "cell_type": "code",
   "execution_count": null,
   "id": "458628f7",
   "metadata": {},
   "outputs": [],
   "source": [
    "arr_2d = np.array([[1, 2, 3, 4], \n",
    "                   [5, 6, 7, 8],\n",
    "                   [9, 10, 11, 12]]) #2d array -> matrix"
   ]
  },
  {
   "cell_type": "code",
   "execution_count": null,
   "id": "1c72e3c4",
   "metadata": {},
   "outputs": [],
   "source": [
    "print(arr_2d < 3)"
   ]
  },
  {
   "cell_type": "code",
   "execution_count": null,
   "id": "d4587fa6",
   "metadata": {},
   "outputs": [],
   "source": [
    "print(arr_2d[arr_2d < 3])"
   ]
  },
  {
   "cell_type": "code",
   "execution_count": null,
   "id": "af23b604",
   "metadata": {},
   "outputs": [],
   "source": [
    "np.where(arr_2d < 4, 1, 0) #if True -> 1 else 0"
   ]
  },
  {
   "cell_type": "markdown",
   "id": "62dbb6b2",
   "metadata": {},
   "source": [
    "**Perché Numpy Array è così veloce?:**"
   ]
  },
  {
   "cell_type": "code",
   "execution_count": null,
   "id": "794d483a",
   "metadata": {},
   "outputs": [],
   "source": [
    "# ndarray 2D di forma (10000, 10000) con float casuale nell'intervallo [0, 1]. Sono 100 milioni di numeri!\n",
    "A = np.random.rand(10000, 10000) #RANDOM RAND: crea un array della forma data e popolalo con campioni casuali da una distribuzione uniforme su [0, 1].\n",
    "a = A.tolist()"
   ]
  },
  {
   "cell_type": "code",
   "execution_count": null,
   "id": "157798e3",
   "metadata": {},
   "outputs": [],
   "source": [
    "%%time\n",
    "total = 0\n",
    "for row in a:\n",
    "    for n in row:\n",
    "        total += n\n",
    "round(total, 2)"
   ]
  },
  {
   "cell_type": "code",
   "execution_count": null,
   "id": "66dbdb8e",
   "metadata": {},
   "outputs": [],
   "source": [
    "%%time\n",
    "round(np.sum(A), 2)"
   ]
  },
  {
   "cell_type": "markdown",
   "id": "6683a771",
   "metadata": {},
   "source": [
    "**Operazioni di algebra lineare:**"
   ]
  },
  {
   "cell_type": "markdown",
   "id": "b85e470d",
   "metadata": {},
   "source": [
    "**1D ARRAY:**"
   ]
  },
  {
   "cell_type": "code",
   "execution_count": null,
   "id": "fef0543d",
   "metadata": {},
   "outputs": [],
   "source": [
    "#Array 1D operations"
   ]
  },
  {
   "cell_type": "code",
   "execution_count": null,
   "id": "2d11d6af",
   "metadata": {},
   "outputs": [],
   "source": [
    "a= np.array([1,2,3])\n",
    "b= np.array([4,5,6])"
   ]
  },
  {
   "cell_type": "code",
   "execution_count": null,
   "id": "4487d630",
   "metadata": {},
   "outputs": [],
   "source": [
    "a+b #addition"
   ]
  },
  {
   "cell_type": "code",
   "execution_count": null,
   "id": "42f3bad9",
   "metadata": {},
   "outputs": [],
   "source": [
    "a-b #subtraction"
   ]
  },
  {
   "cell_type": "code",
   "execution_count": null,
   "id": "8a9ce613",
   "metadata": {},
   "outputs": [],
   "source": [
    "a*3 #scalar multiplication"
   ]
  },
  {
   "cell_type": "code",
   "execution_count": null,
   "id": "df2d0464",
   "metadata": {},
   "outputs": [],
   "source": [
    "#Prodotto scalare:\n",
    "\n",
    "c= np.array([1,0]) \n",
    "d= np.array([0,1]) \n",
    "\n",
    "e= np.array([1,2,3])\n",
    "f= np.array([2,4,6]) #combinazione lineare dell'array e (e*2)\n",
    "\n",
    "#Dot product (prodotto scalare):\n",
    "\n",
    "print(np.dot(c,d)) # =0 -> prodotto scalare =0, perpendicolari, angolo = 90°\n",
    "print(np.dot(e,f)) # prodotto scalare positivo & !=0 -> angolo <90°"
   ]
  },
  {
   "cell_type": "markdown",
   "id": "89add6f0",
   "metadata": {},
   "source": [
    "**Operazioni sulle MATRIX:**"
   ]
  },
  {
   "cell_type": "code",
   "execution_count": null,
   "id": "c6820e79",
   "metadata": {},
   "outputs": [],
   "source": [
    "#2D MATRIX OPERATIONS"
   ]
  },
  {
   "cell_type": "code",
   "execution_count": null,
   "id": "a5a51660",
   "metadata": {},
   "outputs": [],
   "source": [
    "M_1 = np.array([[1, 2],  #square matrix 2x2\n",
    "                [3, 4]])\n",
    "\n",
    "#scalar multiplication\n",
    "\n",
    "M_1 * 10"
   ]
  },
  {
   "cell_type": "code",
   "execution_count": null,
   "id": "ad1d314d",
   "metadata": {},
   "outputs": [],
   "source": [
    "#ARITHMETIC OPERATIONS ON MATRICES \n",
    "\n",
    "M_1 = np.array([[1, 2],  #square matrix 2x2\n",
    "                [3, 4]])\n",
    "      \n",
    "M_2 = np.array([[5, 6],  #square matrix 2x2\n",
    "                [7, 8]])\n",
    "\n",
    "print(M_1 + M_2)"
   ]
  },
  {
   "cell_type": "code",
   "execution_count": null,
   "id": "d65cd40b",
   "metadata": {},
   "outputs": [],
   "source": [
    "#PRODOTTO MATRICIALE\n",
    "\n",
    "M_1 = np.array([[1, 2],  #square matrix 2x2\n",
    "                [3, 4]])\n",
    "      \n",
    "M_2 = np.array([[5, 6],  #square matrix 2x2\n",
    "                [7, 8]])\n",
    "\n",
    "print(np.dot(M_1,M_2))   #OUTPUT : square matrix 2x2"
   ]
  },
  {
   "cell_type": "code",
   "execution_count": null,
   "id": "399658b2",
   "metadata": {},
   "outputs": [],
   "source": []
  },
  {
   "cell_type": "code",
   "execution_count": null,
   "id": "cc7a54b1",
   "metadata": {},
   "outputs": [],
   "source": [
    "M_1= np.array([[1,2,3], #2x3\n",
    "               [0,1,2]]) \n",
    "\n",
    "M_2= np.array([[4,5],   #3x2\n",
    "               [6,7],\n",
    "               [8,9]])\n",
    "\n",
    "print(np.dot(M_1,M_2))  #OUTPUT square matrix: 2x2"
   ]
  },
  {
   "cell_type": "code",
   "execution_count": null,
   "id": "06683180",
   "metadata": {},
   "outputs": [],
   "source": [
    "M_1 @ M_2 # @ -> another option"
   ]
  },
  {
   "cell_type": "markdown",
   "id": "8ae4d9bf",
   "metadata": {},
   "source": [
    "## <mark>Esercizio1</mark>\n",
    "<h4>Create 2 array numpy:</h4>\n",
    "<ul>\n",
    "<li>Un array unidimensionale di numeri casuali compresi tra 0 e 1;</li>\n",
    "<li>Un array bidimensionale di dimensione 3x3 con valori interi casuali.</li>\n",
    "<ul>\n"
   ]
  },
  {
   "cell_type": "markdown",
   "id": "4960b736",
   "metadata": {},
   "source": [
    "## <mark>Esercizio2</mark>\n",
    "<h4>Create 2 array bidimensionali numpy 4x4 con valori interi casuali ed eseguite le seguenti operazioni:</h4>\n",
    "<ul>\n",
    "<li>Restituite la somma di tutti gli elementi dei singoli array che si trovano nell'ultima riga dalla seconda colonna in poi;</li>\n",
    "<li>Unite i 2 array secondo l'asse 1.</li>\n",
    "<ul>\n"
   ]
  },
  {
   "cell_type": "markdown",
   "id": "9584100c",
   "metadata": {},
   "source": [
    "## <mark>Esercizio3</mark>\n",
    "<h4>Create 1 array unidimensionale con 50 valori randomici compresi tra 1 e 1.000 e fate i seguenti calcoli:</h4>\n",
    "<ul>\n",
    "<li>Calcolo della media;</li>\n",
    "<li>Calcolo della moda;</li>\n",
    "<li>Calcolo della deviazione standard;</li>\n",
    "<li>Trasformatelo in un array 5 X 10</li>\n",
    "<ul>\n"
   ]
  },
  {
   "cell_type": "markdown",
   "id": "ef3f509d",
   "metadata": {},
   "source": [
    "# Sistema di equazioni lineari"
   ]
  },
  {
   "cell_type": "markdown",
   "id": "1582a17d",
   "metadata": {},
   "source": [
    "Un sistema di equazioni lineari (o sistema lineare) è una raccolta di una o più equazioni lineari che coinvolgono lo stesso insieme di variabili."
   ]
  },
  {
   "cell_type": "markdown",
   "id": "e72abbb8",
   "metadata": {},
   "source": [
    "<img src=\"https://miro.medium.com/max/1400/1*6LRv9DMK9hXvwm5JVpTQuA.png\" alt=\"500\" width=\"600\" align=\"left\"/>"
   ]
  },
  {
   "cell_type": "code",
   "execution_count": null,
   "id": "41d49a7f",
   "metadata": {},
   "outputs": [],
   "source": [
    "#Abbiamo un chiosco allo stadio dove vendiamo:\n",
    "\n",
    "#Gli hot dog costano 1,50€\n",
    "#Coca Cola costa 0,50€\n",
    "#Realizzato in totale €78,50\n",
    "#Venduti 87 hot dog e Coca Cola insieme\n",
    "\n",
    "#Quanti Hot Dog(x) e Coca Cola(y) sono stati venduti?"
   ]
  },
  {
   "cell_type": "code",
   "execution_count": null,
   "id": "6e89817d",
   "metadata": {},
   "outputs": [],
   "source": [
    "# 1.50x + 0.50y = 78.50 (Equazione relativa al costo)\n",
    "\n",
    "# x + y = 87 (Equazione relativa al numero venduto)"
   ]
  },
  {
   "cell_type": "code",
   "execution_count": null,
   "id": "9eaca80f",
   "metadata": {},
   "outputs": [],
   "source": [
    "a= np.array([[1.50, 0.5], #MATRICE COEFFICIENTI\n",
    "             [1, 1]])\n",
    "\n",
    "b= np.array([[78.50], #MATRICE TERMINI NOTI\n",
    "              [87]])"
   ]
  },
  {
   "cell_type": "code",
   "execution_count": null,
   "id": "2c63d70b",
   "metadata": {},
   "outputs": [],
   "source": [
    "#Calculate inverse of A\n",
    "\n",
    "inv_a= np.linalg.inv(a)"
   ]
  },
  {
   "cell_type": "code",
   "execution_count": null,
   "id": "deb968f5",
   "metadata": {},
   "outputs": [],
   "source": [
    "ID= a @ inv_a  #identity matrix\n",
    "ID"
   ]
  },
  {
   "cell_type": "code",
   "execution_count": null,
   "id": "ecadbbe2",
   "metadata": {},
   "outputs": [],
   "source": [
    "ID_2= np.eye(2)\n",
    "ID_2"
   ]
  },
  {
   "cell_type": "code",
   "execution_count": null,
   "id": "f440cf34",
   "metadata": {},
   "outputs": [],
   "source": [
    "np.allclose(ID, ID_2) #confrontiamo le 2 matrici identità solo per sicurezza."
   ]
  },
  {
   "cell_type": "code",
   "execution_count": null,
   "id": "a4c3165a",
   "metadata": {},
   "outputs": [],
   "source": [
    "X= inv_a @ b #matrice delle Soluzioni (valori incognite)\n",
    "X"
   ]
  },
  {
   "cell_type": "code",
   "execution_count": null,
   "id": "ad522bf3",
   "metadata": {},
   "outputs": [],
   "source": [
    "#Built in function -> linalg.solve() -> DIRETTAMENTE MATRICE SOLUZIONI\n",
    "\n",
    "np.linalg.solve(a, b)"
   ]
  }
 ],
 "metadata": {
  "kernelspec": {
   "display_name": "Python 3 (ipykernel)",
   "language": "python",
   "name": "python3"
  },
  "language_info": {
   "codemirror_mode": {
    "name": "ipython",
    "version": 3
   },
   "file_extension": ".py",
   "mimetype": "text/x-python",
   "name": "python",
   "nbconvert_exporter": "python",
   "pygments_lexer": "ipython3",
   "version": "3.11.3"
  }
 },
 "nbformat": 4,
 "nbformat_minor": 5
}
