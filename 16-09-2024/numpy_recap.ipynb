{
 "cells": [
  {
   "cell_type": "code",
   "execution_count": null,
   "metadata": {},
   "outputs": [],
   "source": [
    "import numpy as np\n",
    "\n",
    "# Creazione di un array\n",
    "arr = np.array([1, 2, 3, 4, 5])\n",
    "\n",
    "# Utilizzo di alcuni metodi\n",
    "print(\"Forma dell'array:\", arr.shape) # Output: (5,)\n",
    "print(\"Dimensioni dell'array:\", arr.ndim) # Output: 1\n",
    "print(\"Tipo di dati:\", arr.dtype) # Output: int64 (varia a seconda della piattaforma)\n",
    "print(\"Numero di elementi:\", arr.size) # Output: 5\n",
    "print(\"Somma degli elementi:\", arr.sum()) # Output: 15\n",
    "print(\"Media degli elementi:\", arr.mean()) # Output: 3.0\n",
    "print(\"Valore massimo:\", arr.max()) # Output: 5\n",
    "print(\"Indice del valore massimo:\", arr.argmax()) # Output: "
   ]
  },
  {
   "cell_type": "code",
   "execution_count": null,
   "metadata": {},
   "outputs": [],
   "source": [
    "# dtype\n",
    "arr = np.array([1, 2, 3], dtype='int32')\n",
    "print(arr.dtype) # Output: int32"
   ]
  },
  {
   "cell_type": "code",
   "execution_count": null,
   "metadata": {},
   "outputs": [],
   "source": [
    "# shape\n",
    "arr = np.array([[1, 2, 3], [4, 5, 6]])\n",
    "print(arr.shape) # Output: (2, 3)"
   ]
  },
  {
   "cell_type": "code",
   "execution_count": null,
   "metadata": {},
   "outputs": [],
   "source": [
    "# arange\n",
    "arr = np.arange(10)\n",
    "print(arr) # Output: [0 1 2 3 4 5 6 7 8 9]"
   ]
  },
  {
   "cell_type": "code",
   "execution_count": null,
   "metadata": {},
   "outputs": [],
   "source": [
    "# reshape\n",
    "arr = np.arange(6)\n",
    "reshaped_arr = arr.reshape((2, 3))\n",
    "print(reshaped_arr)\n",
    "# Output: [[0 1 2] [3 4 5]]\n"
   ]
  },
  {
   "cell_type": "markdown",
   "metadata": {},
   "source": [
    "ESERCIZIO 1 NUMPY_RECAP"
   ]
  },
  {
   "cell_type": "code",
   "execution_count": 1,
   "metadata": {},
   "outputs": [],
   "source": [
    "import numpy as np"
   ]
  },
  {
   "cell_type": "code",
   "execution_count": null,
   "metadata": {},
   "outputs": [],
   "source": [
    "arr = np.arange(10,50)\n",
    "print(arr.dtype)"
   ]
  },
  {
   "cell_type": "code",
   "execution_count": null,
   "metadata": {},
   "outputs": [],
   "source": [
    "arr_float = arr.astype(\"float64\")\n",
    "print(arr_float.dtype)\n",
    "print(arr_float.shape)"
   ]
  },
  {
   "cell_type": "markdown",
   "metadata": {},
   "source": [
    "ESERCIZIO 2 NUMPY_RECAP"
   ]
  },
  {
   "cell_type": "code",
   "execution_count": 1,
   "metadata": {},
   "outputs": [],
   "source": [
    "import numpy as np"
   ]
  },
  {
   "cell_type": "code",
   "execution_count": null,
   "metadata": {},
   "outputs": [],
   "source": [
    "np.random.seed(123)\n",
    "array_originale = np.random.randint(10,51,size = 20)\n",
    "array_originale"
   ]
  },
  {
   "cell_type": "code",
   "execution_count": null,
   "metadata": {},
   "outputs": [],
   "source": [
    "array_originale[len(array)-5:len(array)]\n",
    "array_originale[-5::]\n",
    "array_originale[5:15]\n",
    "array_originale[2::3]\n",
    "array_mod = array[5:10] = 99\n",
    "\n"
   ]
  },
  {
   "cell_type": "markdown",
   "metadata": {},
   "source": [
    "ESERCIZIO 3 NUMPY_RECAP"
   ]
  },
  {
   "cell_type": "code",
   "execution_count": 4,
   "metadata": {},
   "outputs": [],
   "source": [
    "import numpy as np"
   ]
  },
  {
   "cell_type": "code",
   "execution_count": null,
   "metadata": {},
   "outputs": [],
   "source": [
    "array = np.linspace(0,1,12)\n",
    "matrix = np.random.rand(3,4)\n",
    "\n",
    "print(np.round(array,2))\n",
    "print(np.round(matrix,2))\n",
    "print(np.round(array.reshape(3,4),2))\n",
    "print(np.sum(array.reshape((3,4))))\n",
    "print(np.sum(matrix))"
   ]
  },
  {
   "cell_type": "markdown",
   "metadata": {},
   "source": [
    "ESERCIZIO 4 NUMPY_RECAP"
   ]
  },
  {
   "cell_type": "code",
   "execution_count": 11,
   "metadata": {},
   "outputs": [],
   "source": [
    "import numpy as np"
   ]
  },
  {
   "cell_type": "code",
   "execution_count": 14,
   "metadata": {},
   "outputs": [],
   "source": [
    "array1 = np.linspace(0,10,50)\n",
    "array2 = np.random.random(50)\n",
    "somma_array = array1 + array2\n",
    "somma_5insu = np.sum(somma_array[somma_array>5])\n"
   ]
  },
  {
   "cell_type": "code",
   "execution_count": 15,
   "metadata": {},
   "outputs": [
    {
     "name": "stdout",
     "output_type": "stream",
     "text": [
      "primo array[ 0.    0.2   0.41  0.61  0.82  1.02  1.22  1.43  1.63  1.84  2.04  2.24\n",
      "  2.45  2.65  2.86  3.06  3.27  3.47  3.67  3.88  4.08  4.29  4.49  4.69\n",
      "  4.9   5.1   5.31  5.51  5.71  5.92  6.12  6.33  6.53  6.73  6.94  7.14\n",
      "  7.35  7.55  7.76  7.96  8.16  8.37  8.57  8.78  8.98  9.18  9.39  9.59\n",
      "  9.8  10.  ]\n",
      "secondo array[0.55 0.58 0.52 0.   0.99 0.91 0.21 0.29 0.52 0.9  0.98 0.26 0.56 0.81\n",
      " 0.39 0.73 0.16 0.6  0.87 0.98 0.08 0.43 0.2  0.45 0.55 0.09 0.3  0.93\n",
      " 0.57 0.46 0.75 0.74 0.05 0.71 0.84 0.17 0.78 0.29 0.31 0.67 0.11 0.66\n",
      " 0.89 0.7  0.44 0.44 0.77 0.57 0.08 0.58]\n",
      "array somma[ 0.55  0.78  0.93  0.61  1.8   1.93  1.43  1.72  2.15  2.74  3.02  2.5\n",
      "  3.01  3.46  3.25  3.79  3.43  4.07  4.54  4.86  4.16  4.71  4.69  5.14\n",
      "  5.45  5.2   5.6   6.44  6.28  6.38  6.88  7.07  6.58  7.44  7.78  7.31\n",
      "  8.13  7.84  8.06  8.62  8.27  9.03  9.46  9.47  9.42  9.62 10.15 10.16\n",
      "  9.88 10.58]\n",
      "somma degli elementi maggiori di 5 212.24433432311076\n"
     ]
    }
   ],
   "source": [
    "print(f\"primo array{np.round(array1,2)}\")\n",
    "print(f\"secondo array{np.round(array2,2)}\")\n",
    "print(f\"array somma{np.round(somma_array,2)}\")\n",
    "print(f\"somma degli elementi maggiori di 5 {somma_5insu}\")"
   ]
  },
  {
   "cell_type": "code",
   "execution_count": null,
   "metadata": {},
   "outputs": [],
   "source": []
  }
 ],
 "metadata": {
  "kernelspec": {
   "display_name": "Python 3",
   "language": "python",
   "name": "python3"
  },
  "language_info": {
   "codemirror_mode": {
    "name": "ipython",
    "version": 3
   },
   "file_extension": ".py",
   "mimetype": "text/x-python",
   "name": "python",
   "nbconvert_exporter": "python",
   "pygments_lexer": "ipython3",
   "version": "3.12.6"
  }
 },
 "nbformat": 4,
 "nbformat_minor": 2
}
