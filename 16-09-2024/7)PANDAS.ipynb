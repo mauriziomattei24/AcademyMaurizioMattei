{
 "cells": [
  {
   "cell_type": "markdown",
   "metadata": {},
   "source": [
    "<img src=\"https://miro.medium.com/max/481/1*n_ms1q5YoHAQXXUIfeADKQ.png\" alt=\"350\" width=\"400\" align=\"left\"/>"
   ]
  },
  {
   "cell_type": "markdown",
   "metadata": {},
   "source": [
    "# Basi PANDAS\n"
   ]
  },
  {
   "cell_type": "markdown",
   "metadata": {},
   "source": [
    "# <mark>Cos'è Pandas?</mark>\n",
    "\n",
    "<ul>\n",
    "\n",
    "<li>Pandas è una libreria Python utilizzata per lavorare con set di dati.</li>\n",
    "\n",
    "<li>Ha funzioni per analizzare, pulire, esplorare e manipolare i dati.</li>\n",
    "\n",
    "<li>Il nome \"Pandas\" fa riferimento sia a \"Panel Data\" che a \"Python Data Analysis\" ed è stato creato da Wes McKinney nel 2008.</li>\n",
    "</ul>"
   ]
  },
  {
   "cell_type": "markdown",
   "metadata": {},
   "source": [
    "# Perché usare Pandas?\n",
    "\n",
    "<ul>\n",
    "\n",
    "<li>Pandas ci consente di analizzare big data e trarre conclusioni basate su teorie statistiche.</li>\n",
    "\n",
    "<li>I Panda possono ripulire set di dati disordinati e renderli leggibili e pertinenti.</li>\n",
    "\n",
    "<li>I dati rilevanti sono molto importanti nella scienza dei dati.</li>\n",
    "</ul>"
   ]
  },
  {
   "cell_type": "markdown",
   "metadata": {},
   "source": [
    "<img src=\"https://media.geeksforgeeks.org/wp-content/uploads/finallpandas.png\" alt=\"500\" width=\"550\" align=\"left\"/>"
   ]
  },
  {
   "cell_type": "markdown",
   "metadata": {},
   "source": [
    "<img src=\"https://storage.googleapis.com/lds-media/images/series-and-dataframe.width-1200.png\" alt=\"500\" width=\"550\" align=\"left\"/>\n"
   ]
  },
  {
   "cell_type": "markdown",
   "metadata": {},
   "source": [
    "<img src=\"https://miro.medium.com/max/1200/1*eE8DP4biqtaIK3aIy1S2zA.png\" alt=\"500\" width=\"650\" align=\"left\"/>"
   ]
  },
  {
   "cell_type": "markdown",
   "metadata": {},
   "source": [
    "<h1>Cos'è una serie?</h1>\n",
    "Una serie Panda è come una colonna in una tabella.\n",
    "\n",
    "È un array unidimensionale che contiene dati di qualsiasi tipo.\n",
    "\n"
   ]
  },
  {
   "cell_type": "code",
   "execution_count": null,
   "metadata": {},
   "outputs": [],
   "source": [
    "import pandas as pd\n",
    "\n",
    "a = [1, 7, 2]\n",
    "\n",
    "myvar = pd.Series(a)\n",
    "\n",
    "print(myvar)"
   ]
  },
  {
   "cell_type": "markdown",
   "metadata": {},
   "source": [
    "<h1>Etichette</h1>\n",
    "Se non viene specificato altro, i valori vengono etichettati con il relativo numero di indice. Il primo valore ha indice 0, il secondo valore ha indice 1 ecc.\n",
    "\n",
    "Questa etichetta può essere utilizzata per accedere a un valore specificato."
   ]
  },
  {
   "cell_type": "code",
   "execution_count": null,
   "metadata": {},
   "outputs": [],
   "source": [
    "print(myvar[0])"
   ]
  },
  {
   "cell_type": "markdown",
   "metadata": {},
   "source": [
    "<h1>Crea etichette</h1>\n",
    "Con l' index argomento puoi nominare le tue etichette."
   ]
  },
  {
   "cell_type": "code",
   "execution_count": null,
   "metadata": {},
   "outputs": [],
   "source": [
    "a = [1, 7, 2]\n",
    "\n",
    "myvar = pd.Series(a, index = [\"x\", \"y\", \"z\"])\n",
    "\n",
    "print(myvar)"
   ]
  },
  {
   "cell_type": "code",
   "execution_count": null,
   "metadata": {},
   "outputs": [],
   "source": [
    "#Dopo aver creato le etichette, puoi accedere a un elemento facendo riferimento all'etichetta."
   ]
  },
  {
   "cell_type": "code",
   "execution_count": null,
   "metadata": {},
   "outputs": [],
   "source": [
    "print(myvar[\"y\"])"
   ]
  },
  {
   "cell_type": "markdown",
   "metadata": {},
   "source": [
    "<h1>Cos'è un DataFrame?</h1>\n",
    "Un Pandas DataFrame è una struttura dati bidimensionale, come un array bidimensionale o una tabella con righe e colonne.\n",
    "\n"
   ]
  },
  {
   "cell_type": "code",
   "execution_count": null,
   "metadata": {},
   "outputs": [],
   "source": [
    "data = {\n",
    "  \"calories\": [420, 380, 390],\n",
    "  \"duration\": [50, 40, 45]\n",
    "}\n",
    "\n",
    "#load data into a DataFrame object:\n",
    "df = pd.DataFrame(data)\n",
    "\n",
    "print(df) "
   ]
  },
  {
   "cell_type": "markdown",
   "metadata": {},
   "source": [
    "<h1>Individua riga</h1>\n",
    "Come puoi vedere dal risultato sopra, DataFrame è come una tabella con righe e colonne.\n",
    "\n",
    "I pandas utilizzano loc attributo per restituire una o più righe specificate"
   ]
  },
  {
   "cell_type": "code",
   "execution_count": null,
   "metadata": {},
   "outputs": [],
   "source": [
    "#refer to the row index:\n",
    "print(df.loc[0])"
   ]
  },
  {
   "cell_type": "markdown",
   "metadata": {},
   "source": [
    "## <mark>loc / Iloc</mark>:\n",
    "\n",
    "## Selezione tramite un singolo valore\n",
    "\n",
    "<ul>Sia loc che iloc consentono all'input di essere un singolo valore. Possiamo usare la seguente sintassi per la selezione dei dati: <br><br>\n",
    "    \n",
    "<li>loc[row_label, column_label]</li>\n",
    "<li>iloc[row_position, column_position]</li>\n",
    "</ul>"
   ]
  },
  {
   "cell_type": "markdown",
   "metadata": {},
   "source": [
    "<img src=\"https://miro.medium.com/max/1050/1*CgAWzayEQY8PQuMpRkSGfQ.png\" alt=\"500\" width=\"650\" align=\"left\"/>"
   ]
  },
  {
   "cell_type": "code",
   "execution_count": null,
   "metadata": {},
   "outputs": [],
   "source": [
    "df.head()"
   ]
  },
  {
   "cell_type": "code",
   "execution_count": null,
   "metadata": {},
   "outputs": [],
   "source": [
    "df.iloc[0, :] #row selection by index [0,:] \":\" è implicito"
   ]
  },
  {
   "cell_type": "code",
   "execution_count": null,
   "metadata": {},
   "outputs": [],
   "source": [
    "df.iloc[0:2]"
   ]
  },
  {
   "cell_type": "code",
   "execution_count": null,
   "metadata": {},
   "outputs": [],
   "source": [
    "df.iloc[:, 0] #[row, col] -> column selection by index FIRST COLUMN, ALL ROWS"
   ]
  },
  {
   "cell_type": "code",
   "execution_count": null,
   "metadata": {},
   "outputs": [],
   "source": [
    "df.loc[0, 'Name'] #First row, COLUMN= 'Name'"
   ]
  },
  {
   "cell_type": "code",
   "execution_count": null,
   "metadata": {},
   "outputs": [],
   "source": [
    "df.loc[:,'Name'] #ALL ROWS, COLUMN= 'Name'"
   ]
  },
  {
   "cell_type": "markdown",
   "metadata": {},
   "source": [
    "<h1>Indici nominali</h1>\n",
    "Con l' index argomento puoi nominare i tuoi indici."
   ]
  },
  {
   "cell_type": "code",
   "execution_count": null,
   "metadata": {},
   "outputs": [],
   "source": [
    "data = {\n",
    "  \"calories\": [420, 380, 390],\n",
    "  \"duration\": [50, 40, 45]\n",
    "}\n",
    "\n",
    "df = pd.DataFrame(data, index = [\"day1\", \"day2\", \"day3\"])\n",
    "\n",
    "print(df) "
   ]
  },
  {
   "cell_type": "markdown",
   "metadata": {},
   "source": [
    "### ESEMPIO: <mark>ETICHETTA COME INDICE PRINCIPALE</mark>\n",
    "<img src=\"https://miro.medium.com/max/867/1*10_I9N1oqs8cNYVhTALS3w.png\" alt=\"500\" width=\"400\" align=\"left\"/>"
   ]
  },
  {
   "cell_type": "markdown",
   "metadata": {},
   "source": [
    "<h1>Individuare gli indici denominati</h1>\n",
    "Utilizzare l'indice denominato nell'attributo loc per restituire le righe specificate."
   ]
  },
  {
   "cell_type": "code",
   "execution_count": null,
   "metadata": {},
   "outputs": [],
   "source": [
    "#refer to the named index:\n",
    "print(df.loc[\"day2\"])"
   ]
  },
  {
   "cell_type": "markdown",
   "metadata": {},
   "source": [
    "<h1>Carica file in un DataFrame</h1>\n",
    "Se i tuoi set di dati sono archiviati in un file, Panda può caricarli in un DataFrame."
   ]
  },
  {
   "cell_type": "code",
   "execution_count": null,
   "metadata": {},
   "outputs": [],
   "source": [
    "import pandas as pd\n",
    "\n",
    "df = pd.read_csv('data.csv')\n",
    "\n",
    "print(df)\n",
    "\n",
    "#si può fare la stessa cosa con gli exel con il metodo .read_excel"
   ]
  },
  {
   "cell_type": "markdown",
   "metadata": {},
   "source": [
    "<h1>Come salvare i dataframe Pandas</h1>\n",
    "Il metodo .to_csv() è una funzione integrata in Pandas che consente di salvare un DataFrame Pandas come file CSV.\n",
    "\n",
    "La sintassi per l'utilizzo è la seguente:\n",
    "\n",
    "<h2>DataFrame.to_csv(filename, sep=',', index=False, encoding='utf-8')</h2>"
   ]
  },
  {
   "cell_type": "code",
   "execution_count": null,
   "metadata": {},
   "outputs": [],
   "source": [
    "# Create a sample dataframe\n",
    "Biodata = {'Name': ['John', 'Emily', 'Mike', 'Lisa'],\n",
    "        'Age': [28, 23, 35, 31],\n",
    "        'Gender': ['M', 'F', 'M', 'F']\n",
    "        }\n",
    "df = pd.DataFrame(Biodata)\n",
    "\n",
    "# Save the dataframe to a CSV file\n",
    "df.to_csv('Biodata.csv', index=False)\n",
    "#si può fare la stessa cosa con gli exel con il metodo .to_excel"
   ]
  },
  {
   "cell_type": "markdown",
   "metadata": {},
   "source": [
    "## Metodo .apply()\n",
    "\n",
    "Pandas.apply() consente agli utenti di passare una funzione e applicarla su ogni singolo valore della serie Pandas. Si tratta di un metodo utilissimo poiché questa funzione aiuta a separare i dati in base alle condizioni richieste, grazie alle quali vengono utilizzati in modo efficiente nella scienza dei dati e nell'apprendimento automatico."
   ]
  },
  {
   "cell_type": "code",
   "execution_count": null,
   "metadata": {},
   "outputs": [],
   "source": [
    "import pandas as pd\n",
    "# Create a sample dataframe\n",
    "Biodata = {'Name': ['John', 'Emily', 'Mike', 'Lisa'],\n",
    "        'Age': [28, 23, 17, 31],\n",
    "        'Gender': ['M', 'F', 'M', 'F']\n",
    "        }\n",
    "df = pd.DataFrame(Biodata)\n",
    "\n",
    "# Create function\n",
    "def verify_adult(num):\n",
    "    if num<18:\n",
    "        return \"Underage\"\n",
    "    else:\n",
    "        return \"Adult\"\n",
    "\n",
    "# passing function to apply e create new column\n",
    "df['Adult'] = df['Age'].apply(verify_adult)\n",
    "\n",
    "\n",
    "df"
   ]
  },
  {
   "cell_type": "markdown",
   "metadata": {},
   "source": [
    "In questo modo abbiamo creato una nuova colonna che contiene i dati di age rielaborati dalla funzione di verifica. "
   ]
  },
  {
   "cell_type": "markdown",
   "metadata": {},
   "source": [
    "# Funzioni lambda\n",
    "E’ uno di quei concetti che crea confusione e che può risultare però utile in molti contesti, come per esempio nel caso in cui vogliamo applicare una funzione a un DataFrame Pandas.\n",
    "\n",
    "## Cos’è una Lambda Function in Python\n",
    "Una Lambda Function è una funzione anonima, ovvero una funzione a cui non è stato assegnato un nome e che serve per utilizzare le caratteristiche delle funzioni senza però doverle definire.\n",
    "\n",
    "Sì, avete capito bene: possiamo utilizzare una funzione senza definirla.\n",
    "\n",
    "## Differenza tra funzioni normali e Lambda"
   ]
  },
  {
   "cell_type": "code",
   "execution_count": null,
   "metadata": {},
   "outputs": [],
   "source": [
    "#funzione normale\n",
    "def quadrato(x):\n",
    "    return x * x\n",
    "\n",
    "#funzione lambda\n",
    "quadrato_lambda = lambda x : x * x\n",
    "                 #lambda argomento: espressione\n",
    "\n",
    "#Per esegurle si richiamano allo stesso modo\n",
    "quadrato(5)\n",
    "quadrato_lambda(5)\n",
    "\n",
    "\"\"\"\n",
    "Abbiamo però un metodo ancora più compatto per utilizzare \n",
    "funzione lambda\n",
    "\"\"\"\n",
    "(lambda x : x * x)(5)"
   ]
  },
  {
   "cell_type": "markdown",
   "metadata": {},
   "source": [
    "Quest'ultimo caso è il caso tipico per cui è stato creato questo costrutto.\n",
    "\n",
    "Lambda infatti non è il nome della funzione, è una keyword di Python, noi infatti con lambda usiamo una funzione senza assegnarli un nome, quindi quando ci serve una funzione temporanea che non riutilizzeremo.\n",
    "\n",
    "L’argomento è sempre x, come nel caso della funzione che abbiamo definito nel metodo tradizionale, ma in questo caso sta dopo “lambda” e alla sinistra dei due punti (:). Qualora ci fossero stati più argomenti, andavano tutti dopo “lambda” alla sinistra dei due punti separati da virgole.\n",
    "\n",
    "Solitamente con le funzioni tradizionali abbiamo un return, ovvero il valore che la nostra funzione dovrà restituirci. Nel caso delle lambda invece, ciò che ci verrà ritornato sta alla destra dei due punti."
   ]
  },
  {
   "cell_type": "markdown",
   "metadata": {},
   "source": [
    "## Perché utilizzare le Lambda Function\n",
    "\n",
    "1) Primo esempio di utilizzo in cui sono molto utili è la definizione di una funzione all'interno di un'altra funzione:\n"
   ]
  },
  {
   "cell_type": "code",
   "execution_count": null,
   "metadata": {},
   "outputs": [],
   "source": [
    "def myfunz(n):\n",
    "    return lambda a : a * n\n",
    "\n",
    "# Definisco funzione raddoppia\n",
    "raddoppia = myfunz(2)\n",
    "\n",
    "# Definisco funzione triplica\n",
    "triplica = myfunz(3)"
   ]
  },
  {
   "cell_type": "markdown",
   "metadata": {},
   "source": [
    "Quando utilizzo la funzione raddoppia python considera n=2, quindi se la richiamo:"
   ]
  },
  {
   "cell_type": "code",
   "execution_count": null,
   "metadata": {},
   "outputs": [],
   "source": [
    "print(raddoppia(5))"
   ]
  },
  {
   "cell_type": "markdown",
   "metadata": {},
   "source": [
    "Quando utilizzo la funzione triplica, python considera n=3, quindi se la richiamo:"
   ]
  },
  {
   "cell_type": "code",
   "execution_count": null,
   "metadata": {},
   "outputs": [],
   "source": [
    "print(triplica(5))"
   ]
  },
  {
   "cell_type": "markdown",
   "metadata": {},
   "source": [
    "Naturalmente una funzione lambda può accettare anche più di un parametro:"
   ]
  },
  {
   "cell_type": "code",
   "execution_count": null,
   "metadata": {},
   "outputs": [],
   "source": [
    "#definizione funzione\n",
    "z = lambda x,y : x*y + 1\n",
    "\n",
    "print(z(2,3))"
   ]
  },
  {
   "cell_type": "markdown",
   "metadata": {},
   "source": [
    "2) Secondo caso d'uso in cui le lambda ci semplificano la vita è appunto quando ci serve una funzione temporanea, può capitare questa cosa in pandas?\n",
    "\n",
    "Pensate all'esempio visto in precedenza con .apply(), con le lambda potremmo riprodurlo così:\n"
   ]
  },
  {
   "cell_type": "code",
   "execution_count": null,
   "metadata": {},
   "outputs": [],
   "source": [
    "import pandas as pd\n",
    "\n",
    "# Create a sample dataframe\n",
    "Biodata = {'Name': ['John', 'Emily', 'Mike', 'Lisa'],\n",
    "        'Age': [28, 23, 17, 31],\n",
    "        'Gender': ['M', 'F', 'M', 'F']\n",
    "        }\n",
    "df = pd.DataFrame(Biodata)\n",
    "\n",
    "# pass function to apply e create new column\n",
    "df['Adult'] = df['Age'].apply(lambda x : \"Underage\" if x <18 else \"Adult\")\n",
    "\n"
   ]
  },
  {
   "cell_type": "markdown",
   "metadata": {},
   "source": [
    "Meno codice scritto e in questo modo creare una nuova colonna con .apply() diventa ancora più semplice, a maggior ragione sapendo che quella funzione specifica non ci riservirà più nel nostro codice."
   ]
  },
  {
   "cell_type": "markdown",
   "metadata": {},
   "source": [
    "## Quando non sono utili le lambda\n",
    "\n",
    "L’utilizzo delle lambda functions in Python non è sempre la scelta giusta da compiere, vediamo i motivi:\n",
    "\n",
    "- Può compiere una sola espressione, non è possibile inserire operazioni multiple in una funzione di questo tipo.\n",
    "\n",
    "- Non è possibile inserire al suo interno dei commenti che possono agevolarne la comprensione.\n",
    "\n",
    "- Anche se possono essere utilizzate come le funzione normali, come detto il loro caso d'uso ottimale è quando ci serve una funzione temporanea che non riutilizzeremo."
   ]
  },
  {
   "cell_type": "markdown",
   "metadata": {},
   "source": [
    "## <mark>Esercizio1</mark>\n",
    "<h4>Create un DataFrame sulla base di un elenco di almeno 10 clienti forniti dall'utente tramite input e salvatelo in formato csv.\n",
    "Per ogni cliente verranno forniti:</h4>\n",
    "<ul>\n",
    "<li>Numero Cliente, Nome, Cognome, Data di Nascita, Regione di Residenza.</li>\n",
    "<ul>\n"
   ]
  },
  {
   "cell_type": "markdown",
   "metadata": {},
   "source": [
    "## <mark>Esercizio2</mark>\n",
    "<h4>Partendo dal dataframe creato nell'esercizio precedente, aggiungete 3 colonne:</h4>\n",
    "<ul>\n",
    "<li>La prima contiene una X in corrispondenza dei clienti minorenni;</li>\n",
    "<li>La seconda contiene una X in corrispondenza dei clienti con età maggiore di 17 anni;</li>\n",
    "<li>La terza contiene una X in corrispondenza dei clienti con età maggiore di 20 anni.</li>\n",
    "<ul>\n"
   ]
  },
  {
   "cell_type": "code",
   "execution_count": null,
   "metadata": {},
   "outputs": [],
   "source": [
    "#Per avere la data odierna in automatico potete usare la seguente libreria:\n",
    "import datetime\n",
    "\n",
    "today = datetime.datetime.now()\n",
    "print(today)"
   ]
  },
  {
   "cell_type": "markdown",
   "metadata": {},
   "source": [
    "## <mark>Esercizio3</mark>\n",
    "<h4>Create un programma per la gestione di un'azienda che usa alcuni database csv creati con pandas, l'utente dovrà poter leggere, aggiungere, aggiornare e modificare i dati inseriti. I csv conterranno i seguenti dati:</h4>\n",
    "<ul>\n",
    "<li>Clienti (NumeroCliente, Nome, Cognome, DataNascita, RegioneResidenza);</li>\n",
    "\n",
    "<li>Fatture (NumeroFattura, Tipologia, Importo, Iva, IdCliente, DataFattura, NumeroFornitore);</li>\n",
    "\n",
    "<ul>\n",
    "<h4></h4>\n"
   ]
  },
  {
   "cell_type": "markdown",
   "metadata": {},
   "source": [
    "<h1>Pandas con esempio pratico DATASET Titanic</h1>"
   ]
  },
  {
   "cell_type": "code",
   "execution_count": null,
   "metadata": {},
   "outputs": [],
   "source": [
    "import numpy as np\n",
    "import pandas as pd #Load Pandas library"
   ]
  },
  {
   "cell_type": "code",
   "execution_count": null,
   "metadata": {
    "tags": [
     "challengify"
    ]
   },
   "outputs": [],
   "source": [
    "#https://www.kaggle.com/c/titanic/data\n",
    "#Load Dataset (read_csv(), function):\n",
    "\n",
    "df = pd.read_csv('titanic/train.csv')\n",
    "\n",
    "df"
   ]
  },
  {
   "cell_type": "code",
   "execution_count": null,
   "metadata": {},
   "outputs": [],
   "source": [
    "df.shape #attribute shape (nrows, ncolumns)"
   ]
  },
  {
   "cell_type": "markdown",
   "metadata": {},
   "source": [
    "**head() / tail()  :**\n",
    "\n",
    "head() : Return the first n rows. (5 by default)\n",
    "\n",
    "tail(): Return the last n rows. (5 by default)"
   ]
  },
  {
   "cell_type": "code",
   "execution_count": null,
   "metadata": {
    "tags": [
     "challengify"
    ]
   },
   "outputs": [],
   "source": [
    "df.head() #first 5 rows by DEFAULT"
   ]
  },
  {
   "cell_type": "code",
   "execution_count": null,
   "metadata": {},
   "outputs": [],
   "source": [
    "df.tail() #last 5 rows bt DEFAULT"
   ]
  },
  {
   "cell_type": "code",
   "execution_count": null,
   "metadata": {},
   "outputs": [],
   "source": [
    "df['Survived'] #Series"
   ]
  },
  {
   "cell_type": "code",
   "execution_count": null,
   "metadata": {},
   "outputs": [],
   "source": [
    "#Return a Series containing counts of unique values.\n",
    "\n",
    "#The resulting object will be in descending order.\n",
    "\n",
    "df['Survived'].value_counts()"
   ]
  },
  {
   "cell_type": "code",
   "execution_count": null,
   "metadata": {},
   "outputs": [],
   "source": [
    "df[['Name', 'Survived']] #Df Subset"
   ]
  },
  {
   "cell_type": "markdown",
   "metadata": {},
   "source": [
    "**describe():**\n",
    "    \n",
    "Generare statistiche descrittive.\n",
    "\n",
    "Le statistiche descrittive includono quelle che riassumono la tendenza centrale,\n",
    "dispersione e forma della distribuzione di un set di dati, esclusi i valori NaN."
   ]
  },
  {
   "cell_type": "code",
   "execution_count": null,
   "metadata": {},
   "outputs": [],
   "source": [
    "df.describe() "
   ]
  },
  {
   "cell_type": "code",
   "execution_count": null,
   "metadata": {},
   "outputs": [],
   "source": [
    "df.dtypes #attribute dtypes: Return the dtypes in the DataFrame."
   ]
  },
  {
   "cell_type": "code",
   "execution_count": null,
   "metadata": {
    "tags": [
     "delete"
    ]
   },
   "outputs": [],
   "source": [
    "df.isnull() #Detect missing values. "
   ]
  },
  {
   "cell_type": "code",
   "execution_count": null,
   "metadata": {},
   "outputs": [],
   "source": [
    "df.isnull().sum() #Sum null values"
   ]
  },
  {
   "cell_type": "markdown",
   "metadata": {},
   "source": [
    "Sembra che l'informazione \"Cabina\" manchi in 687 righe. Abbastanza normale considerando che le persone in 3a classe (\"Pclass\") non ne avevano una!\n",
    "\n",
    "❓ Utilizza la funzione [`pandas.DataFrame.drop`](https://pandas.pydata.org/pandas-docs/stable/reference/api/pandas.DataFrame.drop.html) per eliminare la `Cabin` in \"titanic_df\"."
   ]
  },
  {
   "cell_type": "code",
   "execution_count": null,
   "metadata": {
    "tags": [
     "challengify"
    ]
   },
   "outputs": [],
   "source": [
    "df.drop('Cabin', axis=1, inplace=True) "
   ]
  },
  {
   "cell_type": "code",
   "execution_count": null,
   "metadata": {},
   "outputs": [],
   "source": [
    "df.head()"
   ]
  },
  {
   "cell_type": "code",
   "execution_count": null,
   "metadata": {},
   "outputs": [],
   "source": [
    "#Other methods: \n",
    "\n",
    "#df= df.drop('Cabin', axis=1) \n",
    "\n",
    "#Drop more columns:\n",
    "    \n",
    "#df.drop(columns= [col1, col2], axis=1, inplace=True)"
   ]
  },
  {
   "cell_type": "code",
   "execution_count": null,
   "metadata": {},
   "outputs": [],
   "source": [
    "df= df.drop(columns=['Ticket', 'Embarked'], axis=1) #we also remove these 2 columns because we don't need them for now"
   ]
  },
  {
   "cell_type": "code",
   "execution_count": null,
   "metadata": {},
   "outputs": [],
   "source": [
    "df.head()"
   ]
  },
  {
   "cell_type": "markdown",
   "metadata": {},
   "source": [
    "**Correlation:**"
   ]
  },
  {
   "cell_type": "code",
   "execution_count": null,
   "metadata": {},
   "outputs": [],
   "source": [
    "df.corr()"
   ]
  },
  {
   "cell_type": "code",
   "execution_count": null,
   "metadata": {},
   "outputs": [],
   "source": [
    "import matplotlib.pyplot as plt\n",
    "import seaborn as sns\n",
    "\n",
    "corr = df.corr()\n",
    "\n",
    "fig, ax = plt.subplots(figsize=(16, 6))\n",
    "\n",
    "sns.heatmap(\n",
    "    corr, \n",
    "    vmin=-1, vmax=1, center=0, annot=True,\n",
    "    cmap=sns.diverging_palette(20, 220, n=200),\n",
    "    square=True\n",
    ")"
   ]
  },
  {
   "cell_type": "markdown",
   "metadata": {},
   "source": [
    "## <mark>Esercizio1</mark>\n",
    "<h4>Partendo da questo dataframe su kaggle https://www.kaggle.com/datasets/vikrishnan/boston-house-prices analizzate i dati, sistemate gli elementi mancanti e verificate se ci sono correlazioni e create un grafico a mappa di calore.</h4>\n",
    "\n",
    "\n"
   ]
  },
  {
   "cell_type": "markdown",
   "metadata": {},
   "source": [
    "## <mark>Esercizio2</mark>\n",
    "<h4>Partendo da questo dataframe su kaggle https://www.kaggle.com/datasets/shivamb/netflix-shows  analizzate i dati, sistemate gli elementi mancanti e verificate se ci sono correlazioni e create un grafico a mappa di calore.</h4>\n",
    "\n",
    "\n"
   ]
  },
  {
   "cell_type": "markdown",
   "metadata": {},
   "source": [
    "## <mark>GROUPBY()</mark>\n",
    "\n",
    "Un'operazione groupby implica una combinazione di suddivisione dell'oggetto, applicazione di una funzione e combinazione dei risultati.\n",
    "\n",
    "**Questo può essere utilizzato per raggruppare grandi quantità di dati e operazioni di calcolo su questi gruppi.**"
   ]
  },
  {
   "cell_type": "markdown",
   "metadata": {},
   "source": [
    "<img src=\"https://www.datasciencemadesimple.com/wp-content/uploads/2020/05/Generic-Groupby-mean-1.png\" alt=\"500\" width=\"850\" align=\"left\"/>"
   ]
  },
  {
   "cell_type": "markdown",
   "metadata": {},
   "source": [
    "## Analisi delle classi\n",
    "\n",
    "Diamo un'occhiata alla divisione dei biglietti.\n",
    "\n",
    "❓ Utilizzando un `groupby()`, crea un dataframe `pclass_df` contando il numero di biglietti venduti per classe (1, 2 o 3)"
   ]
  },
  {
   "cell_type": "code",
   "execution_count": null,
   "metadata": {},
   "outputs": [],
   "source": [
    "df.head()"
   ]
  },
  {
   "cell_type": "code",
   "execution_count": null,
   "metadata": {
    "tags": [
     "challengify"
    ]
   },
   "outputs": [],
   "source": [
    "#Quanti biglietti venduti per ogni classe?\n",
    "\n",
    "pclass_df = df.groupby(\"Pclass\").count()[\"PassengerId\"].to_frame(name=\"Biglietti venduti\")\n",
    "pclass_df"
   ]
  },
  {
   "cell_type": "markdown",
   "metadata": {},
   "source": [
    "Guardare il numero non è molto visivo, proviamo a dare un senso ai dati con un grafico.\n",
    "\n",
    "❓ Traccia il dataframe `pclass_df` creato nella domanda precedente come un grafico a barre"
   ]
  },
  {
   "cell_type": "markdown",
   "metadata": {},
   "source": [
    "**Pandas plot(): Make plots of Series or DataFrame.**"
   ]
  },
  {
   "cell_type": "code",
   "execution_count": null,
   "metadata": {
    "tags": [
     "challengify"
    ]
   },
   "outputs": [],
   "source": [
    "pclass_df.plot(kind=\"bar\")"
   ]
  },
  {
   "cell_type": "markdown",
   "metadata": {},
   "source": [
    "Diamo ora un'occhiata ai **sopravvissuti**.\n",
    "\n",
    "❓ Traccia un grafico a barre della *frequenza di sopravvivenza* per classe. \"0\" significa che nessuno è sopravvissuto nella classe, \"1\" significa che tutti sono sopravvissuti."
   ]
  },
  {
   "cell_type": "code",
   "execution_count": null,
   "metadata": {
    "tags": [
     "challengify"
    ]
   },
   "outputs": [],
   "source": [
    "#Quanti sopravvissuti per ogni classe?\n",
    "\n",
    "df_survived= df[[\"Pclass\",\"Survived\"]].groupby('Pclass').mean()\n",
    "df_survived"
   ]
  },
  {
   "cell_type": "code",
   "execution_count": null,
   "metadata": {},
   "outputs": [],
   "source": [
    "#reset_index():\n",
    "\n",
    "#Questa funzione reimposta e fornisce il nuovo indice ai frame di dati raggruppati per e li rende una struttura di frame di dati adeguata.\n",
    "\n",
    "df_survived_2= df[[\"Pclass\",\"Survived\"]].groupby('Pclass').mean().reset_index()\n",
    "df_survived_2"
   ]
  },
  {
   "cell_type": "code",
   "execution_count": null,
   "metadata": {},
   "outputs": [],
   "source": [
    "df_survived.plot(kind='bar')"
   ]
  },
  {
   "cell_type": "markdown",
   "metadata": {},
   "source": [
    "## Analisi di genere\n",
    "\n",
    "Diamo un'occhiata alla colonna \"Sesso\"."
   ]
  },
  {
   "cell_type": "markdown",
   "metadata": {},
   "source": [
    "❓ Traccia un grafico a barre della frequenza di sopravvivenza di ciascun genere. Chi è sopravvissuto di più?"
   ]
  },
  {
   "cell_type": "code",
   "execution_count": null,
   "metadata": {
    "tags": [
     "challengify"
    ]
   },
   "outputs": [],
   "source": [
    "df[['Survived', 'Sex']].groupby('Sex').mean().plot(kind='bar')"
   ]
  },
  {
   "cell_type": "markdown",
   "metadata": {},
   "source": [
    "Costruiamo un istogramma più elaborato in cui mostriamo il numero totale di passeggeri + il numero totale di sopravvissuti (per ciascun sesso).\n",
    "\n",
    "❓ Crea un DataFrame `survivors_df` con due colonne: `Total` e `Survived` e due righe (\"male` e `female`). Traccialo."
   ]
  },
  {
   "cell_type": "code",
   "execution_count": null,
   "metadata": {
    "tags": [
     "challengify"
    ]
   },
   "outputs": [],
   "source": [
    "survivors_df = df[['Survived', 'Sex']].groupby('Sex').sum() #SUM VALUES: 0 (NOT SURVIVED) , 1 (SURVIVED)\n",
    "survivors_df['Total'] = df[['Survived', 'Sex']].groupby('Sex').count() #COUNT TOTAL NUMBER OF PEOPLE PER CLASS (MALE,FEMALE)\n",
    "survivors_df.plot(kind='bar')"
   ]
  },
  {
   "cell_type": "code",
   "execution_count": null,
   "metadata": {},
   "outputs": [],
   "source": [
    "survivors_df['%']= (survivors_df['Survived']*100)/survivors_df['Total']\n",
    "survivors_df"
   ]
  },
  {
   "cell_type": "markdown",
   "metadata": {},
   "source": [
    "## <mark>Esercizio1</mark>\n",
    "<h4>Partendo dallo stesso Dataframe sulle case scaricato in precedenza, calcolate la media dei prezzi delle case raggruppati per zona e realizzate grafici esplicativi.</h4>"
   ]
  },
  {
   "cell_type": "markdown",
   "metadata": {},
   "source": [
    "## <mark>Esercizio2</mark>\n",
    "<h4>Partendo dallo stesso Dataframe Netflix scaricato in precedenza, calcolate la media della lunghezza dei prodotti ragguppati per serie e film e realizzate grafici esplicativi.</h4>"
   ]
  },
  {
   "cell_type": "markdown",
   "metadata": {},
   "source": [
    "## Bambini\n",
    "\n",
    "La prima analisi non teneva conto dell’età. Vogliamo distinguere tra un bambino e un adulto e vedere come vengono influenzati i tassi di sopravvivenza.\n",
    "\n",
    "❓ Utilizza l'indicizzazione booleana per creare un `children_df` contenente solo righe di passeggeri bambini"
   ]
  },
  {
   "cell_type": "code",
   "execution_count": null,
   "metadata": {
    "tags": [
     "challengify"
    ]
   },
   "outputs": [],
   "source": [
    "children_df = df[df['Age'] <= 17] #BOOLEAN INDEXING\n",
    "children_df.head()"
   ]
  },
  {
   "cell_type": "markdown",
   "metadata": {},
   "source": [
    "❓Quanti bambini c'erano nel Titanic?"
   ]
  },
  {
   "cell_type": "code",
   "execution_count": null,
   "metadata": {
    "tags": [
     "challengify"
    ]
   },
   "outputs": [],
   "source": [
    "total_children= children_df.shape[0] #number of rows\n",
    "total_children"
   ]
  },
  {
   "cell_type": "markdown",
   "metadata": {},
   "source": [
    "❓Quanti bambini sono sopravvissuti?"
   ]
  },
  {
   "cell_type": "code",
   "execution_count": null,
   "metadata": {
    "tags": [
     "challengify"
    ]
   },
   "outputs": [],
   "source": [
    "children_survived= children_df['Survived'].sum()\n",
    "children_survived"
   ]
  },
  {
   "cell_type": "markdown",
   "metadata": {},
   "source": [
    "❓ Traccia un grafico a barre dei sopravvissuti/totale per ciascuna categoria: \"maschio\", \"femmina\", \"bambini\". Tieni presente che devi **sottrarre** i ragazzi dalle statistiche \"maschili\" e le ragazze da quelle \"femminili\"."
   ]
  },
  {
   "cell_type": "code",
   "execution_count": null,
   "metadata": {},
   "outputs": [],
   "source": [
    "adults_df= df[df['Age'] > 17]\n",
    "adults_df= adults_df.rename(columns={'Sex': 'People'})\n",
    "\n",
    "survivors_df = adults_df[['Survived', 'People']].groupby('People').sum() #SUM VALUES: 0 (NOT SURVIVED) , 1 (SURVIVED)\n",
    "survivors_df['Total'] = adults_df[['Survived', 'People']].groupby('People').count() #COUNT TOTAL NUMBER OF PEOPLE PER CLASS (MALE,FEMALE)\n",
    "survivors_df['%']= (survivors_df['Survived']*100)/survivors_df['Total']\n",
    "survivors_df"
   ]
  },
  {
   "cell_type": "code",
   "execution_count": null,
   "metadata": {
    "tags": [
     "challengify"
    ]
   },
   "outputs": [],
   "source": [
    "#aggiungi colonna e valori dei dati Children a survival_df\n",
    "\n",
    "survivors_df.loc['children'] = [children_survived, total_children, (children_survived*100)/total_children ] \n",
    "survivors_df"
   ]
  },
  {
   "cell_type": "code",
   "execution_count": null,
   "metadata": {
    "tags": [
     "delete"
    ]
   },
   "outputs": [],
   "source": [
    "survivors_df[['Survived', 'Total']].plot(kind='bar')"
   ]
  },
  {
   "cell_type": "markdown",
   "metadata": {},
   "source": [
    "## Famiglie numerose:"
   ]
  },
  {
   "cell_type": "markdown",
   "metadata": {},
   "source": [
    "❓ Scoprire se per le famiglie più numerose è stato più difficile sopravvivere?\n",
    "  \n",
    "Qui crei una nuova colonna nel tuo `DataFrame` per la dimensione della famiglia del passeggero."
   ]
  },
  {
   "cell_type": "code",
   "execution_count": null,
   "metadata": {
    "tags": [
     "challengify"
    ]
   },
   "outputs": [],
   "source": [
    "df['family_size'] = 1 + df['SibSp'] + df['Parch']\n",
    "df.groupby('family_size').mean()['Survived'].plot(kind='bar');"
   ]
  },
  {
   "cell_type": "markdown",
   "metadata": {},
   "source": [
    "## Titoli illustri"
   ]
  },
  {
   "cell_type": "markdown",
   "metadata": {},
   "source": [
    "❓ Durante l'evacuazione sono stati preferiti i passeggeri con titoli illustri?\n",
    "   \n",
    "Con qualche manipolazione delle stringhe, crea una nuova colonna per ogni utente con il suo titolo"
   ]
  },
  {
   "cell_type": "code",
   "execution_count": null,
   "metadata": {},
   "outputs": [],
   "source": [
    "df.head()"
   ]
  },
  {
   "cell_type": "code",
   "execution_count": null,
   "metadata": {
    "tags": [
     "challengify"
    ]
   },
   "outputs": [],
   "source": [
    "#split(): divide una stringa in un elenco in cui ogni parola è un elemento dell'elenco\n",
    "#strip(): rimuove gli spazi all'inizio e alla fine della stringa:\n",
    "\n",
    "df['Title'] = df['Name'].apply(lambda x: x.split(',')[1].split('.')[0].strip())\n",
    "df"
   ]
  },
  {
   "cell_type": "code",
   "execution_count": null,
   "metadata": {},
   "outputs": [],
   "source": [
    "#logy= Use log scaling or symlog scaling on y axis. \n",
    "\n",
    "#Contiamo quante persone per \"Title\":\n",
    "\n",
    "df.groupby('Title').count()['PassengerId'].sort_values().plot(kind='bar', logy=True)"
   ]
  },
  {
   "cell_type": "code",
   "execution_count": null,
   "metadata": {
    "tags": [
     "delete"
    ]
   },
   "outputs": [],
   "source": [
    "#Quanti sopravvissuti per \"Title\":\n",
    "\n",
    "#1) Countess:Contessa\n",
    "#2) Mlle: Signorina\n",
    "#3)Lady: Signora\n",
    "#4)Ms: Non sposata\n",
    "#5)Sir: Signore\n",
    "#.....\n",
    "\n",
    "df.groupby('Title').mean()['Survived'].sort_values().plot(kind='bar')"
   ]
  },
  {
   "cell_type": "code",
   "execution_count": null,
   "metadata": {},
   "outputs": [],
   "source": [
    "df.groupby('Title').count()[['PassengerId']]"
   ]
  },
  {
   "cell_type": "markdown",
   "metadata": {},
   "source": [
    "## <mark>Esercizio1</mark>\n",
    "<h4>Partendo dal Dataframe delle Case scaricato in precedenza eseguite le seguenti analisi:</h4>\n",
    "\n",
    "- Concentrati sulle analisi temporali:\n",
    "    - Analizza come il prezzo di vendita delle case è cambiato nel tempo.\n",
    "    - Visualizza l'andamento temporale del prezzo di vendita utilizzando un grafico a linee.\n",
    "    - Esamina se ci sono correlazioni tra variabili temporali (ad esempio, anno di costruzione, anno di ristrutturazione, ecc.) e il prezzo di vendita.\n",
    "\n",
    "- Esplorazione delle relazioni tra categorie e prezzo di vendita:\n",
    "\n",
    "    - Esamina come il prezzo di vendita varia in base alle variabili categoriche come il tipo di strada, la forma del terreno, ecc.\n",
    "\n",
    "- Esplorazione delle caratteristiche di vendita:\n",
    "\n",
    "    - Analizza le caratteristiche di vendita (tempo di vendita, metodo di vendita, ecc.) e determina se influenzano il prezzo di vendita.\n",
    "\n",
    "- Analisi delle caratteristiche di località:\n",
    "\n",
    "    - Esplora le caratteristiche di località (quartiere, vicinato, ecc.) e analizza come influenzano il prezzo di vendita.\n",
    "\n"
   ]
  },
  {
   "cell_type": "markdown",
   "metadata": {},
   "source": [
    "## <mark>Esercizio2</mark>\n",
    "<h4>Partendo dal Dataframe Netflix scaricato in precedenza eseguite le seguenti analisi:</h4>\n",
    "\n",
    "- Analisi delle categorie di contenuto:\n",
    "\n",
    "    - Determina quali sono le categorie più popolari di film e spettacoli televisivi su Netflix.\n",
    "    - Calcola la distribuzione delle categorie di contenuto e visualizzale graficamente utilizzando un grafico a barre o un grafico a torta.\n",
    "\n",
    "- Esplorazione delle valutazioni:\n",
    "\n",
    "    - Analizza la distribuzione delle valutazioni dei film e degli spettacoli televisivi su Netflix.\n",
    "    - Visualizza la distribuzione delle valutazioni utilizzando un istogramma.\n",
    "\n",
    "- Correlazioni tra variabili:\n",
    "\n",
    "    - Esamina se esiste una correlazione tra il paese di produzione e il genere del contenuto su Netflix.\n",
    "    - Calcola la correlazione tra la valutazione e l'anno di pubblicazione dei contenuti.\n",
    "\n",
    "- Analisi temporale:\n",
    "\n",
    "    - Esplora le tendenze temporali dei contenuti su Netflix in base all'anno di pubblicazione.\n",
    "    - Visualizza l'andamento nel tempo del numero di contenuti pubblicati su Netflix utilizzando un grafico a linee.\n",
    "\n",
    "- Analisi della durata dei film e degli spettacoli televisivi:\n",
    "\n",
    "    - Calcola la durata media dei film e degli spettacoli televisivi su Netflix.\n",
    "    - Confronta la durata media dei film e degli spettacoli televisivi tra le diverse categorie di contenuto.\n",
    "\n",
    "- Analisi delle distribuzioni geografiche:\n",
    "\n",
    "    -  Esamina la distribuzione geografica dei contenuti su Netflix in base al paese di produzione.\n",
    "    - Visualizza la distribuzione geografica utilizzando una mappa o un grafico a barre.\n",
    "\n",
    "- Esplorazione delle serie TV:\n",
    "\n",
    "    - Analizza la distribuzione delle serie TV rispetto ai film su Netflix.\n",
    "    - Calcola la durata media delle serie TV e dei film e confrontali."
   ]
  },
  {
   "cell_type": "code",
   "execution_count": 1,
   "metadata": {},
   "outputs": [],
   "source": [
    "import pandas as pd\n",
    "from random import choice\n",
    "\n",
    "list_country = [\"Stati Uniti d'America\",\n",
    "\"Cina\",\"India\",\"Brasile\",\"Russia\",\"Giappone\",\n",
    "\"Germania\",\"Regno Unito\",\"Francia\",\"Italia\"]\n",
    "\n",
    "list_genere = [\"Azione\",\"Commedia\",\n",
    "\"Drammatico\",\"Horror\",\"Fantascienza\",\n",
    "\"Avventura\",\"Romantico\",\"Thriller\",\n",
    "\"Animazione\", \"Documentario\"]\n",
    "\n",
    "colonna_country = []\n",
    "colonna_genere = []\n",
    "\n",
    "for element in range(1000):\n",
    "    colonna_country.append(choice(list_country))\n",
    "    colonna_genere.append(choice(list_genere))\n",
    "\n",
    "colonna_genere[-1] = \"Azione\"\n",
    "\n"
   ]
  },
  {
   "cell_type": "code",
   "execution_count": 2,
   "metadata": {},
   "outputs": [],
   "source": [
    "i = 0\n",
    "list_fr = []\n",
    "list_br = []\n",
    "\n",
    "for element in colonna_country:\n",
    "    if element == \"Francia\":\n",
    "        list_fr.append(i)\n",
    "    elif element == \"Brasile\":\n",
    "        list_fr.append(i)\n",
    "    i +=1\n",
    "\n",
    "\n",
    "\n",
    "list_genere = [\"Azione\",\n",
    "\"Drammatico\",\"Horror\",\"Fantascienza\",\n",
    "\"Avventura\",\"Romantico\",\n",
    "\"Animazione\", \"Documentario\"]\n",
    "\n",
    "for element in list_fr:\n",
    "    colonna_genere[element] =choice(list_genere)\n",
    "\n",
    "for element in list_br:\n",
    "    colonna_genere[element] =choice(list_genere)"
   ]
  },
  {
   "cell_type": "code",
   "execution_count": 3,
   "metadata": {},
   "outputs": [
    {
     "data": {
      "text/html": [
       "<div>\n",
       "<style scoped>\n",
       "    .dataframe tbody tr th:only-of-type {\n",
       "        vertical-align: middle;\n",
       "    }\n",
       "\n",
       "    .dataframe tbody tr th {\n",
       "        vertical-align: top;\n",
       "    }\n",
       "\n",
       "    .dataframe thead th {\n",
       "        text-align: right;\n",
       "    }\n",
       "</style>\n",
       "<table border=\"1\" class=\"dataframe\">\n",
       "  <thead>\n",
       "    <tr style=\"text-align: right;\">\n",
       "      <th></th>\n",
       "      <th>paesi</th>\n",
       "      <th>genere</th>\n",
       "    </tr>\n",
       "  </thead>\n",
       "  <tbody>\n",
       "    <tr>\n",
       "      <th>0</th>\n",
       "      <td>Regno Unito</td>\n",
       "      <td>Horror</td>\n",
       "    </tr>\n",
       "    <tr>\n",
       "      <th>1</th>\n",
       "      <td>Regno Unito</td>\n",
       "      <td>Animazione</td>\n",
       "    </tr>\n",
       "    <tr>\n",
       "      <th>2</th>\n",
       "      <td>Brasile</td>\n",
       "      <td>Avventura</td>\n",
       "    </tr>\n",
       "    <tr>\n",
       "      <th>3</th>\n",
       "      <td>Francia</td>\n",
       "      <td>Azione</td>\n",
       "    </tr>\n",
       "    <tr>\n",
       "      <th>4</th>\n",
       "      <td>Francia</td>\n",
       "      <td>Drammatico</td>\n",
       "    </tr>\n",
       "    <tr>\n",
       "      <th>...</th>\n",
       "      <td>...</td>\n",
       "      <td>...</td>\n",
       "    </tr>\n",
       "    <tr>\n",
       "      <th>995</th>\n",
       "      <td>Giappone</td>\n",
       "      <td>Avventura</td>\n",
       "    </tr>\n",
       "    <tr>\n",
       "      <th>996</th>\n",
       "      <td>Stati Uniti d'America</td>\n",
       "      <td>Animazione</td>\n",
       "    </tr>\n",
       "    <tr>\n",
       "      <th>997</th>\n",
       "      <td>Cina</td>\n",
       "      <td>Avventura</td>\n",
       "    </tr>\n",
       "    <tr>\n",
       "      <th>998</th>\n",
       "      <td>Brasile</td>\n",
       "      <td>Drammatico</td>\n",
       "    </tr>\n",
       "    <tr>\n",
       "      <th>999</th>\n",
       "      <td>India</td>\n",
       "      <td>Azione</td>\n",
       "    </tr>\n",
       "  </tbody>\n",
       "</table>\n",
       "<p>1000 rows × 2 columns</p>\n",
       "</div>"
      ],
      "text/plain": [
       "                     paesi      genere\n",
       "0              Regno Unito      Horror\n",
       "1              Regno Unito  Animazione\n",
       "2                  Brasile   Avventura\n",
       "3                  Francia      Azione\n",
       "4                  Francia  Drammatico\n",
       "..                     ...         ...\n",
       "995               Giappone   Avventura\n",
       "996  Stati Uniti d'America  Animazione\n",
       "997                   Cina   Avventura\n",
       "998                Brasile  Drammatico\n",
       "999                  India      Azione\n",
       "\n",
       "[1000 rows x 2 columns]"
      ]
     },
     "execution_count": 3,
     "metadata": {},
     "output_type": "execute_result"
    }
   ],
   "source": [
    "data = {\"paesi\": colonna_country, \"genere\":colonna_genere}\n",
    "\n",
    "df = pd.DataFrame(data)\n",
    "\n",
    "df"
   ]
  },
  {
   "cell_type": "code",
   "execution_count": 4,
   "metadata": {},
   "outputs": [
    {
     "data": {
      "text/plain": [
       "{'Brasile': {'Animazione': 12,\n",
       "  'Avventura': 13,\n",
       "  'Azione': 15,\n",
       "  'Documentario': 10,\n",
       "  'Drammatico': 17,\n",
       "  'Fantascienza': 12,\n",
       "  'Horror': 14,\n",
       "  'Romantico': 14},\n",
       " 'Cina': {'Animazione': 15,\n",
       "  'Avventura': 12,\n",
       "  'Azione': 7,\n",
       "  'Commedia': 12,\n",
       "  'Documentario': 10,\n",
       "  'Drammatico': 8,\n",
       "  'Fantascienza': 14,\n",
       "  'Horror': 5,\n",
       "  'Romantico': 5,\n",
       "  'Thriller': 9},\n",
       " 'Francia': {'Animazione': 13,\n",
       "  'Avventura': 11,\n",
       "  'Azione': 7,\n",
       "  'Documentario': 17,\n",
       "  'Drammatico': 12,\n",
       "  'Fantascienza': 13,\n",
       "  'Horror': 17,\n",
       "  'Romantico': 14},\n",
       " 'Germania': {'Animazione': 14,\n",
       "  'Avventura': 11,\n",
       "  'Azione': 10,\n",
       "  'Commedia': 12,\n",
       "  'Documentario': 8,\n",
       "  'Drammatico': 10,\n",
       "  'Fantascienza': 13,\n",
       "  'Horror': 7,\n",
       "  'Romantico': 7,\n",
       "  'Thriller': 11},\n",
       " 'Giappone': {'Animazione': 13,\n",
       "  'Avventura': 9,\n",
       "  'Azione': 13,\n",
       "  'Commedia': 12,\n",
       "  'Documentario': 6,\n",
       "  'Drammatico': 13,\n",
       "  'Fantascienza': 7,\n",
       "  'Horror': 11,\n",
       "  'Romantico': 8,\n",
       "  'Thriller': 12},\n",
       " 'India': {'Animazione': 9,\n",
       "  'Avventura': 17,\n",
       "  'Azione': 14,\n",
       "  'Commedia': 14,\n",
       "  'Documentario': 9,\n",
       "  'Drammatico': 12,\n",
       "  'Fantascienza': 6,\n",
       "  'Horror': 16,\n",
       "  'Romantico': 5,\n",
       "  'Thriller': 8},\n",
       " 'Italia': {'Animazione': 17,\n",
       "  'Avventura': 7,\n",
       "  'Azione': 10,\n",
       "  'Commedia': 7,\n",
       "  'Documentario': 8,\n",
       "  'Drammatico': 9,\n",
       "  'Fantascienza': 16,\n",
       "  'Horror': 7,\n",
       "  'Romantico': 7,\n",
       "  'Thriller': 7},\n",
       " 'Regno Unito': {'Animazione': 3,\n",
       "  'Avventura': 16,\n",
       "  'Azione': 8,\n",
       "  'Commedia': 8,\n",
       "  'Documentario': 8,\n",
       "  'Drammatico': 4,\n",
       "  'Fantascienza': 7,\n",
       "  'Horror': 13,\n",
       "  'Romantico': 8,\n",
       "  'Thriller': 8},\n",
       " 'Russia': {'Animazione': 8,\n",
       "  'Avventura': 8,\n",
       "  'Azione': 8,\n",
       "  'Commedia': 22,\n",
       "  'Documentario': 7,\n",
       "  'Drammatico': 12,\n",
       "  'Fantascienza': 7,\n",
       "  'Horror': 7,\n",
       "  'Romantico': 11,\n",
       "  'Thriller': 10},\n",
       " \"Stati Uniti d'America\": {'Animazione': 11,\n",
       "  'Avventura': 14,\n",
       "  'Azione': 11,\n",
       "  'Commedia': 7,\n",
       "  'Documentario': 9,\n",
       "  'Drammatico': 7,\n",
       "  'Fantascienza': 9,\n",
       "  'Horror': 9,\n",
       "  'Romantico': 6,\n",
       "  'Thriller': 14}}"
      ]
     },
     "execution_count": 4,
     "metadata": {},
     "output_type": "execute_result"
    }
   ],
   "source": [
    "# Raggruppa i dati per paese e genere e conta le occorrenze\n",
    "country_genre_counts = df.groupby(['paesi', 'genere'])\n",
    "dizionario = {}\n",
    "for element in country_genre_counts:\n",
    "    dizionario[element[0][0]]= dizionario.setdefault(element[0][0],{})\n",
    "    dizionario[element[0][0]][element[0][1]]= len(element[1])\n",
    "\n",
    "generi = df['genere'].unique()\n",
    "\n",
    "dizionario\n"
   ]
  },
  {
   "cell_type": "code",
   "execution_count": 5,
   "metadata": {},
   "outputs": [],
   "source": [
    "for element in dizionario:\n",
    "    for ele in generi:\n",
    "        dizionario[element][ele]= dizionario[element].setdefault(ele,0)"
   ]
  },
  {
   "cell_type": "code",
   "execution_count": 6,
   "metadata": {},
   "outputs": [
    {
     "data": {
      "text/html": [
       "<div>\n",
       "<style scoped>\n",
       "    .dataframe tbody tr th:only-of-type {\n",
       "        vertical-align: middle;\n",
       "    }\n",
       "\n",
       "    .dataframe tbody tr th {\n",
       "        vertical-align: top;\n",
       "    }\n",
       "\n",
       "    .dataframe thead th {\n",
       "        text-align: right;\n",
       "    }\n",
       "</style>\n",
       "<table border=\"1\" class=\"dataframe\">\n",
       "  <thead>\n",
       "    <tr style=\"text-align: right;\">\n",
       "      <th></th>\n",
       "      <th>Animazione</th>\n",
       "      <th>Avventura</th>\n",
       "      <th>Azione</th>\n",
       "      <th>Documentario</th>\n",
       "      <th>Drammatico</th>\n",
       "      <th>Fantascienza</th>\n",
       "      <th>Horror</th>\n",
       "      <th>Romantico</th>\n",
       "      <th>Commedia</th>\n",
       "      <th>Thriller</th>\n",
       "    </tr>\n",
       "  </thead>\n",
       "  <tbody>\n",
       "    <tr>\n",
       "      <th>Brasile</th>\n",
       "      <td>12</td>\n",
       "      <td>13</td>\n",
       "      <td>15</td>\n",
       "      <td>10</td>\n",
       "      <td>17</td>\n",
       "      <td>12</td>\n",
       "      <td>14</td>\n",
       "      <td>14</td>\n",
       "      <td>0</td>\n",
       "      <td>0</td>\n",
       "    </tr>\n",
       "    <tr>\n",
       "      <th>Cina</th>\n",
       "      <td>15</td>\n",
       "      <td>12</td>\n",
       "      <td>7</td>\n",
       "      <td>10</td>\n",
       "      <td>8</td>\n",
       "      <td>14</td>\n",
       "      <td>5</td>\n",
       "      <td>5</td>\n",
       "      <td>12</td>\n",
       "      <td>9</td>\n",
       "    </tr>\n",
       "    <tr>\n",
       "      <th>Francia</th>\n",
       "      <td>13</td>\n",
       "      <td>11</td>\n",
       "      <td>7</td>\n",
       "      <td>17</td>\n",
       "      <td>12</td>\n",
       "      <td>13</td>\n",
       "      <td>17</td>\n",
       "      <td>14</td>\n",
       "      <td>0</td>\n",
       "      <td>0</td>\n",
       "    </tr>\n",
       "    <tr>\n",
       "      <th>Germania</th>\n",
       "      <td>14</td>\n",
       "      <td>11</td>\n",
       "      <td>10</td>\n",
       "      <td>8</td>\n",
       "      <td>10</td>\n",
       "      <td>13</td>\n",
       "      <td>7</td>\n",
       "      <td>7</td>\n",
       "      <td>12</td>\n",
       "      <td>11</td>\n",
       "    </tr>\n",
       "    <tr>\n",
       "      <th>Giappone</th>\n",
       "      <td>13</td>\n",
       "      <td>9</td>\n",
       "      <td>13</td>\n",
       "      <td>6</td>\n",
       "      <td>13</td>\n",
       "      <td>7</td>\n",
       "      <td>11</td>\n",
       "      <td>8</td>\n",
       "      <td>12</td>\n",
       "      <td>12</td>\n",
       "    </tr>\n",
       "    <tr>\n",
       "      <th>India</th>\n",
       "      <td>9</td>\n",
       "      <td>17</td>\n",
       "      <td>14</td>\n",
       "      <td>9</td>\n",
       "      <td>12</td>\n",
       "      <td>6</td>\n",
       "      <td>16</td>\n",
       "      <td>5</td>\n",
       "      <td>14</td>\n",
       "      <td>8</td>\n",
       "    </tr>\n",
       "    <tr>\n",
       "      <th>Italia</th>\n",
       "      <td>17</td>\n",
       "      <td>7</td>\n",
       "      <td>10</td>\n",
       "      <td>8</td>\n",
       "      <td>9</td>\n",
       "      <td>16</td>\n",
       "      <td>7</td>\n",
       "      <td>7</td>\n",
       "      <td>7</td>\n",
       "      <td>7</td>\n",
       "    </tr>\n",
       "    <tr>\n",
       "      <th>Regno Unito</th>\n",
       "      <td>3</td>\n",
       "      <td>16</td>\n",
       "      <td>8</td>\n",
       "      <td>8</td>\n",
       "      <td>4</td>\n",
       "      <td>7</td>\n",
       "      <td>13</td>\n",
       "      <td>8</td>\n",
       "      <td>8</td>\n",
       "      <td>8</td>\n",
       "    </tr>\n",
       "    <tr>\n",
       "      <th>Russia</th>\n",
       "      <td>8</td>\n",
       "      <td>8</td>\n",
       "      <td>8</td>\n",
       "      <td>7</td>\n",
       "      <td>12</td>\n",
       "      <td>7</td>\n",
       "      <td>7</td>\n",
       "      <td>11</td>\n",
       "      <td>22</td>\n",
       "      <td>10</td>\n",
       "    </tr>\n",
       "    <tr>\n",
       "      <th>Stati Uniti d'America</th>\n",
       "      <td>11</td>\n",
       "      <td>14</td>\n",
       "      <td>11</td>\n",
       "      <td>9</td>\n",
       "      <td>7</td>\n",
       "      <td>9</td>\n",
       "      <td>9</td>\n",
       "      <td>6</td>\n",
       "      <td>7</td>\n",
       "      <td>14</td>\n",
       "    </tr>\n",
       "  </tbody>\n",
       "</table>\n",
       "</div>"
      ],
      "text/plain": [
       "                       Animazione  Avventura  Azione  Documentario  \\\n",
       "Brasile                        12         13      15            10   \n",
       "Cina                           15         12       7            10   \n",
       "Francia                        13         11       7            17   \n",
       "Germania                       14         11      10             8   \n",
       "Giappone                       13          9      13             6   \n",
       "India                           9         17      14             9   \n",
       "Italia                         17          7      10             8   \n",
       "Regno Unito                     3         16       8             8   \n",
       "Russia                          8          8       8             7   \n",
       "Stati Uniti d'America          11         14      11             9   \n",
       "\n",
       "                       Drammatico  Fantascienza  Horror  Romantico  Commedia  \\\n",
       "Brasile                        17            12      14         14         0   \n",
       "Cina                            8            14       5          5        12   \n",
       "Francia                        12            13      17         14         0   \n",
       "Germania                       10            13       7          7        12   \n",
       "Giappone                       13             7      11          8        12   \n",
       "India                          12             6      16          5        14   \n",
       "Italia                          9            16       7          7         7   \n",
       "Regno Unito                     4             7      13          8         8   \n",
       "Russia                         12             7       7         11        22   \n",
       "Stati Uniti d'America           7             9       9          6         7   \n",
       "\n",
       "                       Thriller  \n",
       "Brasile                       0  \n",
       "Cina                          9  \n",
       "Francia                       0  \n",
       "Germania                     11  \n",
       "Giappone                     12  \n",
       "India                         8  \n",
       "Italia                        7  \n",
       "Regno Unito                   8  \n",
       "Russia                       10  \n",
       "Stati Uniti d'America        14  "
      ]
     },
     "execution_count": 6,
     "metadata": {},
     "output_type": "execute_result"
    }
   ],
   "source": [
    "dizionario2 ={}\n",
    "list_stati_ord =[]\n",
    "for element in dizionario:\n",
    "    \n",
    "    list_stati_ord.append(element)\n",
    "    for ele in dizionario[element]:\n",
    "        dizionario2[ele]= dizionario2.setdefault(ele,[])\n",
    "        dizionario2[ele].append(dizionario[element][ele])\n",
    "df2 = pd.DataFrame(dizionario2, index=list_stati_ord)\n",
    "\n",
    "df2"
   ]
  },
  {
   "cell_type": "code",
   "execution_count": 25,
   "metadata": {},
   "outputs": [
    {
     "data": {
      "image/png": "[encoded data removed]",
      "text/plain": [
       "<Figure size 1000x800 with 1 Axes>"
      ]
     },
     "metadata": {},
     "output_type": "display_data"
    }
   ],
   "source": [
    "import matplotlib.pyplot as plt\n",
    "\n",
    "plt.figure(figsize=(10,8))\n",
    "for num in range(len(df2.index)):\n",
    "    x = df2.iloc[num]\n",
    "    plt.subplot(2, 2, 1) #n rows, n columns, id subplot\n",
    "    plt.bar(x.index,x)\n",
    "    plt.xticks(rotation=50)\n",
    "\n",
    "plt.show()"
   ]
  },
  {
   "cell_type": "code",
   "execution_count": 76,
   "metadata": {},
   "outputs": [
    {
     "data": {
      "image/png": "[encoded data removed]",
      "text/plain": [
       "<Figure size 1000x4500 with 10 Axes>"
      ]
     },
     "metadata": {},
     "output_type": "display_data"
    }
   ],
   "source": [
    "plt.figure(figsize=(10,45))\n",
    "iter =1\n",
    "for num in range(len(df2.index)):\n",
    "    x = df2.iloc[num]\n",
    "    plt.subplot(5, 2, iter).set_title(df2.index[num]) #n rows, n columns, id subplot\n",
    "    plt.bar(x.index,x)\n",
    "    plt.xticks(rotation=47)\n",
    "    iter +=1\n",
    "\n",
    "plt.show()"
   ]
  }
 ],
 "metadata": {
  "kernelspec": {
   "display_name": "Python 3 (ipykernel)",
   "language": "python",
   "name": "python3"
  },
  "language_info": {
   "codemirror_mode": {
    "name": "ipython",
    "version": 3
   },
   "file_extension": ".py",
   "mimetype": "text/x-python",
   "name": "python",
   "nbconvert_exporter": "python",
   "pygments_lexer": "ipython3",
   "version": "3.11.7"
  }
 },
 "nbformat": 4,
 "nbformat_minor": 4
}
