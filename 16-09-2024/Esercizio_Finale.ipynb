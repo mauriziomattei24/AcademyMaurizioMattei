{
 "cells": [
  {
   "cell_type": "code",
   "execution_count": 43,
   "metadata": {},
   "outputs": [],
   "source": [
    "import numpy as np\n",
    "import pandas as pd"
   ]
  },
  {
   "cell_type": "code",
   "execution_count": 44,
   "metadata": {},
   "outputs": [],
   "source": [
    "dates = pd.date_range(start = \"2020-01-01\", end = \"2020-12-31\", freq = \"D\")"
   ]
  },
  {
   "cell_type": "code",
   "execution_count": 45,
   "metadata": {},
   "outputs": [],
   "source": [
    "np.random.seed(123)\n",
    "visitatori = np.random.normal(2000,500,size = len(dates))"
   ]
  },
  {
   "cell_type": "code",
   "execution_count": 46,
   "metadata": {},
   "outputs": [],
   "source": [
    "trend = np.linspace(0,1000,len(dates))\n",
    "visitatori_piu_trend = visitatori + trend\n",
    "visitatori_piu_trend = np.maximum(visitatori_piu_trend, 0)"
   ]
  },
  {
   "cell_type": "code",
   "execution_count": 47,
   "metadata": {},
   "outputs": [
    {
     "data": {
      "text/html": [
       "<div>\n",
       "<style scoped>\n",
       "    .dataframe tbody tr th:only-of-type {\n",
       "        vertical-align: middle;\n",
       "    }\n",
       "\n",
       "    .dataframe tbody tr th {\n",
       "        vertical-align: top;\n",
       "    }\n",
       "\n",
       "    .dataframe thead th {\n",
       "        text-align: right;\n",
       "    }\n",
       "</style>\n",
       "<table border=\"1\" class=\"dataframe\">\n",
       "  <thead>\n",
       "    <tr style=\"text-align: right;\">\n",
       "      <th></th>\n",
       "      <th>Visitatori</th>\n",
       "    </tr>\n",
       "    <tr>\n",
       "      <th>Giorno</th>\n",
       "      <th></th>\n",
       "    </tr>\n",
       "  </thead>\n",
       "  <tbody>\n",
       "    <tr>\n",
       "      <th>2020-01-01</th>\n",
       "      <td>1457.184698</td>\n",
       "    </tr>\n",
       "    <tr>\n",
       "      <th>2020-01-02</th>\n",
       "      <td>2498.672723</td>\n",
       "    </tr>\n",
       "    <tr>\n",
       "      <th>2020-01-03</th>\n",
       "      <td>2141.489249</td>\n",
       "    </tr>\n",
       "    <tr>\n",
       "      <th>2020-01-04</th>\n",
       "      <td>1246.852643</td>\n",
       "    </tr>\n",
       "    <tr>\n",
       "      <th>2020-01-05</th>\n",
       "      <td>1710.699874</td>\n",
       "    </tr>\n",
       "  </tbody>\n",
       "</table>\n",
       "</div>"
      ],
      "text/plain": [
       "             Visitatori\n",
       "Giorno                 \n",
       "2020-01-01  1457.184698\n",
       "2020-01-02  2498.672723\n",
       "2020-01-03  2141.489249\n",
       "2020-01-04  1246.852643\n",
       "2020-01-05  1710.699874"
      ]
     },
     "execution_count": 47,
     "metadata": {},
     "output_type": "execute_result"
    }
   ],
   "source": [
    "## 2 ##\n",
    "\n",
    "df = pd.DataFrame({\"Giorno\": dates, \"Visitatori\" : visitatori})\n",
    "df.set_index(\"Giorno\", inplace = True)\n",
    "df.head()"
   ]
  },
  {
   "cell_type": "code",
   "execution_count": 48,
   "metadata": {},
   "outputs": [
    {
     "data": {
      "text/plain": [
       "Index([ 1,  1,  1,  1,  1,  1,  1,  1,  1,  1,\n",
       "       ...\n",
       "       12, 12, 12, 12, 12, 12, 12, 12, 12, 12],\n",
       "      dtype='int32', length=366)"
      ]
     },
     "execution_count": 48,
     "metadata": {},
     "output_type": "execute_result"
    }
   ],
   "source": [
    "dates.month"
   ]
  },
  {
   "cell_type": "code",
   "execution_count": 49,
   "metadata": {},
   "outputs": [
    {
     "name": "stdout",
     "output_type": "stream",
     "text": [
      "Visitatori    2017.512899\n",
      "dtype: float64\n",
      "Visitatori    2077.589256\n",
      "dtype: float64\n",
      "Visitatori    1980.404796\n",
      "dtype: float64\n",
      "Visitatori    1954.837555\n",
      "dtype: float64\n",
      "Visitatori    2121.698609\n",
      "dtype: float64\n",
      "Visitatori    1981.048464\n",
      "dtype: float64\n",
      "Visitatori    1927.984549\n",
      "dtype: float64\n",
      "Visitatori    1899.163736\n",
      "dtype: float64\n",
      "Visitatori    2045.976916\n",
      "dtype: float64\n",
      "Visitatori    1852.853023\n",
      "dtype: float64\n",
      "Visitatori    1990.633941\n",
      "dtype: float64\n",
      "Visitatori    1879.710503\n",
      "dtype: float64\n"
     ]
    }
   ],
   "source": [
    "## 3 ##\n",
    "for i in set(dates.month):\n",
    "    mean_month = df[dates.month == i].mean()\n",
    "    print(mean_month)\n"
   ]
  },
  {
   "cell_type": "code",
   "execution_count": 50,
   "metadata": {},
   "outputs": [
    {
     "name": "stdout",
     "output_type": "stream",
     "text": [
      "Visitatori    584.245971\n",
      "dtype: float64\n",
      "Visitatori    626.073305\n",
      "dtype: float64\n",
      "Visitatori    533.82092\n",
      "dtype: float64\n",
      "Visitatori    577.984741\n",
      "dtype: float64\n",
      "Visitatori    390.499006\n",
      "dtype: float64\n",
      "Visitatori    427.711441\n",
      "dtype: float64\n",
      "Visitatori    487.478259\n",
      "dtype: float64\n",
      "Visitatori    414.875497\n",
      "dtype: float64\n",
      "Visitatori    539.30572\n",
      "dtype: float64\n",
      "Visitatori    504.204434\n",
      "dtype: float64\n",
      "Visitatori    428.412857\n",
      "dtype: float64\n",
      "Visitatori    480.168966\n",
      "dtype: float64\n"
     ]
    }
   ],
   "source": [
    "for i in set(dates.month):\n",
    "    std_month = df[dates.month == i].std()\n",
    "    print(std_month)"
   ]
  },
  {
   "cell_type": "code",
   "execution_count": null,
   "metadata": {},
   "outputs": [],
   "source": []
  }
 ],
 "metadata": {
  "kernelspec": {
   "display_name": "Python 3",
   "language": "python",
   "name": "python3"
  },
  "language_info": {
   "codemirror_mode": {
    "name": "ipython",
    "version": 3
   },
   "file_extension": ".py",
   "mimetype": "text/x-python",
   "name": "python",
   "nbconvert_exporter": "python",
   "pygments_lexer": "ipython3",
   "version": "3.12.6"
  }
 },
 "nbformat": 4,
 "nbformat_minor": 2
}
