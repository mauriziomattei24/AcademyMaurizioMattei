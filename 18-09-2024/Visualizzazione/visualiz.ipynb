{
 "cells": [
  {
   "cell_type": "code",
   "execution_count": null,
   "metadata": {},
   "outputs": [],
   "source": [
    "!pip install matplotlib seaborn"
   ]
  },
  {
   "cell_type": "code",
   "execution_count": 5,
   "metadata": {},
   "outputs": [],
   "source": [
    "import matplotlib.pyplot as plt\n",
    "import seaborn as sns"
   ]
  },
  {
   "cell_type": "code",
   "execution_count": 9,
   "metadata": {},
   "outputs": [],
   "source": [
    "import numpy as np"
   ]
  },
  {
   "cell_type": "code",
   "execution_count": 6,
   "metadata": {},
   "outputs": [],
   "source": [
    "# Matplotlib è altamente personalizzabile. Qui ci sono alcune configurazioni base che potresti trovare utili:\n",
    "plt.rcParams['figure.figsize'] = [10, 6]\n",
    "# Imposta la dimensione predefinita delle figure\n",
    "plt.rcParams['figure.dpi'] = 100\n",
    "# Imposta la risoluzione delle figure in DPI"
   ]
  },
  {
   "cell_type": "code",
   "execution_count": 7,
   "metadata": {},
   "outputs": [],
   "source": [
    "# Puoi anche impostare caratteristiche come il colore di sfondo, il\n",
    "# tipo di font, ecc.:\n",
    "\n",
    "plt.rcParams['figure.facecolor'] = 'white' # Colore di sfondo della figura"
   ]
  },
  {
   "cell_type": "code",
   "execution_count": 8,
   "metadata": {},
   "outputs": [],
   "source": [
    "# Configurazione di Seaborn\n",
    "# Seaborn offre diversi temi predefiniti che possono essere utilizzati\n",
    "# per migliorare l'estetica dei grafici. Puoi conf. tema di default\n",
    "# con:\n",
    "sns.set_theme() # Applica il tema di default di Seaborn\n",
    "# Altri temi includono darkgrid, whitegrid, dark, white, e ticks. Puoi\n",
    "# applicarne uno specifico così:\n",
    "sns.set_theme(style=\"whitegrid\")"
   ]
  },
  {
   "cell_type": "code",
   "execution_count": null,
   "metadata": {},
   "outputs": [],
   "source": [
    "# Configura Seaborn\n",
    "sns.set_theme(style=\"darkgrid\")\n",
    "\n",
    "# Crea alcuni dati\n",
    "data = np.random.normal(size=100)\n",
    "\n",
    "# Crea un grafico\n",
    "sns.histplot(data, kde=True)\n",
    "plt.title('Distribuzione dei dati')\n",
    "plt.show()"
   ]
  },
  {
   "cell_type": "code",
   "execution_count": null,
   "metadata": {},
   "outputs": [],
   "source": [
    "# Ecco come creare alcuni grafici semplici utilizzando Matplotlib:\n",
    "# Grafico a Linee\n",
    "\n",
    "x = [1, 2, 3, 4, 5]\n",
    "y = [2, 3, 5, 7, 11]\n",
    "plt.figure()\n",
    "plt.plot(x, y)\n",
    "plt.title('Grafico a Linee')\n",
    "plt.xlabel('X Axis')\n",
    "plt.ylabel('Y Axis')\n",
    "plt.show()\n"
   ]
  },
  {
   "cell_type": "code",
   "execution_count": null,
   "metadata": {},
   "outputs": [],
   "source": [
    "# GRAFICO A BARRE\n",
    "categories = ['A','B','C','D','E']\n",
    "values = [3, 7, 2, 5, 8]\n",
    "plt.figure()\n",
    "plt.bar(categories, values)\n",
    "plt.title('Grafico a Barre')\n",
    "plt.xlabel('Categorie')\n",
    "plt.ylabel('Valori')\n",
    "plt.show()\n"
   ]
  },
  {
   "cell_type": "code",
   "execution_count": null,
   "metadata": {},
   "outputs": [],
   "source": [
    "# Istogramma\n",
    "import numpy as np\n",
    "import matplotlib.pyplot as plt\n",
    "data = np.random.randn(1000)\n",
    "plt.figure()\n",
    "plt.hist(data, bins=30)\n",
    "plt.title('Istogramma')\n",
    "plt.xlabel('Valori')\n",
    "plt.ylabel('Frequenza')\n",
    "plt.show()"
   ]
  },
  {
   "cell_type": "code",
   "execution_count": null,
   "metadata": {},
   "outputs": [],
   "source": [
    "# SCATTER PLOT\n",
    "x = np.random.rand(50)\n",
    "y = np.random.rand(50)\n",
    "plt.figure()\n",
    "plt.scatter(x, y)\n",
    "plt.title('Scatter Plot')\n",
    "plt.xlabel('X Axis')\n",
    "plt.ylabel('Y Axis')\n",
    "plt.show()\n"
   ]
  },
  {
   "cell_type": "code",
   "execution_count": 21,
   "metadata": {},
   "outputs": [],
   "source": [
    "# Esercizio Facile: Calcolo di Statistiche di Base\n",
    "# Testo dell'esercizio:\n",
    "# Hai a disposizione un dataset, che devi autogenerare,contenuto in un DataFrame pandas con una singola colonna temperature che rappresenta la temperatura giornaliera in una città per un mese.\n",
    "# Scrivi un programma Python che calcoli e stampi le seguenti statistiche:\n",
    "# - La temperatura massima\n",
    "# - La temperatura minima\n",
    "# - La temperatura media\n",
    "# - La mediana delle temperature\n",
    "\n",
    "import pandas as pd\n",
    "\n",
    "np.random.seed(42)  \n",
    "temperature = np.random.randint(15, 35, size=30)  # Temperature casuali tra 15°C e 35°C\n",
    "df = pd.DataFrame(temperature, columns=['Temperature'])\n",
    "\n",
    "max_temp = df['Temperature'].max()\n",
    "min_temp = df['Temperature'].min()\n",
    "mean_temp = df['Temperature'].mean()\n",
    "median_temp = df['Temperature'].median()\n",
    "\n",
    "\n"
   ]
  },
  {
   "cell_type": "code",
   "execution_count": null,
   "metadata": {},
   "outputs": [],
   "source": [
    "Statistiche = ['Temp. Massima', 'Temp. Minima', 'temp. Media', 'Temp. Mediana']\n",
    "Valori = [max_temp, min_temp, mean_temp, median_temp]\n",
    "\n",
    "# GRAFICO A BARRE\n",
    "plt.figure()\n",
    "plt.bar(Statistiche, Valori)\n",
    "plt.title('Grafico a Barre')\n",
    "plt.xlabel(\"Statistiche\")\n",
    "plt.ylabel('Valori')\n",
    "plt.show()"
   ]
  },
  {
   "cell_type": "code",
   "execution_count": null,
   "metadata": {},
   "outputs": [],
   "source": [
    "# scatter plot\n",
    "\n",
    "# aggiungo una colonna con i giorni\n",
    "df['Giorno'] = pd.date_range(start='2024-09-01', periods=30)\n",
    "\n",
    "df[\"Giorno\"] = pd.to_datetime(df[\"Giorno\"])\n",
    "\n",
    "x = df[\"Giorno\"]\n",
    "y = df[\"Temperature\"]\n",
    "\n",
    "plt.figure(figsize=(10, 6))\n",
    "plt.scatter(x, y)\n",
    "plt.plot(x, y, color='gray', linestyle='-', linewidth=1, label='trend line')  \n",
    "\n",
    "plt.title('Scatter Plot')\n",
    "plt.xlabel('Giorno', fontsize=12)\n",
    "plt.ylabel('Temperature')\n",
    "\n",
    "\n",
    "plt.xticks(ticks=x[::5], labels=x[::5].dt.strftime('%Y-%m-%d'), rotation=45, ha=\"right\")\n",
    "\n",
    "plt.legend()\n",
    "plt.show()\n"
   ]
  }
 ],
 "metadata": {
  "kernelspec": {
   "display_name": "Python 3",
   "language": "python",
   "name": "python3"
  },
  "language_info": {
   "codemirror_mode": {
    "name": "ipython",
    "version": 3
   },
   "file_extension": ".py",
   "mimetype": "text/x-python",
   "name": "python",
   "nbconvert_exporter": "python",
   "pygments_lexer": "ipython3",
   "version": "3.12.6"
  }
 },
 "nbformat": 4,
 "nbformat_minor": 2
}
