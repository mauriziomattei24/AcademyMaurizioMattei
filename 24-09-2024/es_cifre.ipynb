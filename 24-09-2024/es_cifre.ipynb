{
 "cells": [
  {
   "cell_type": "code",
   "execution_count": 1,
   "metadata": {},
   "outputs": [],
   "source": [
    "import numpy as np\n",
    "import matplotlib.pyplot as plt\n",
    "import seaborn as sns\n",
    "import pandas as pd\n",
    "\n",
    "from tensorflow.keras.datasets import mnist\n",
    "from tensorflow.keras.models import Sequential\n",
    "from tensorflow.keras.layers import Dense, Flatten, Conv2D, MaxPooling2D\n",
    "from tensorflow.keras.utils import to_categorical\n",
    "from sklearn.metrics import confusion_matrix, classification_report"
   ]
  },
  {
   "cell_type": "code",
   "execution_count": 6,
   "metadata": {},
   "outputs": [
    {
     "data": {
      "text/plain": [
       "(60000, 28, 28)"
      ]
     },
     "execution_count": 6,
     "metadata": {},
     "output_type": "execute_result"
    }
   ],
   "source": [
    "def ottieni_dati():\n",
    "    (X_train, y_train), (X_test, y_test) = mnist.load_data()\n",
    "    return X_train, y_train, X_test, y_test\n"
   ]
  },
  {
   "cell_type": "code",
   "execution_count": 10,
   "metadata": {},
   "outputs": [],
   "source": [
    "def target_handling():\n",
    "    y_train = to_categorical(y_train, num_classes=10)\n",
    "    y_test = to_categorical(y_test, num_classes=10)\n",
    "    return y_train, y_test\n"
   ]
  },
  {
   "cell_type": "code",
   "execution_count": 13,
   "metadata": {},
   "outputs": [],
   "source": [
    "def model_construction():\n",
    "    model = Sequential()\n",
    "    model.add(Flatten())\n",
    "    # layer\n",
    "    model.add(Dense(64, activation='relu'))\n",
    "    # layer output\n",
    "    model.add(Dense(10, activation='softmax'))\n",
    "    # compilazione del modello\n",
    "    model.compile(optimizer='adam',\n",
    "              loss='categorical_crossentropy',\n",
    "              metrics=['accuracy'])"
   ]
  },
  {
   "cell_type": "code",
   "execution_count": 14,
   "metadata": {},
   "outputs": [],
   "source": [
    "def model_fit_predict_visualization(model,X_train,y_train,X_test,y_test):\n",
    "    model.fit(X_train, y_train,\n",
    "                    epochs=10,\n",
    "                    batch_size=32,\n",
    "                    validation_split=0.1)\n",
    "    # evaluate\n",
    "    test_loss, test_accuracy = model.evaluate(X_test, y_test)\n",
    "    print(f'Perdita sul test set: {test_loss:.4f}')\n",
    "    print(f'Accuratezza sul test set: {test_accuracy:.4f}')\n",
    "    # predict\n",
    "    predictions = model.predict(X_test)\n",
    "    # converti in etichette\n",
    "    predicted_classes = np.argmax(predictions)\n",
    "    true_classes = np.argmax(y_test)\n",
    "    confusion_matrix = confusion_matrix(true_classes, predicted_classes)\n",
    "    # confusion matrix\n",
    "    plt.figure(figsize=(10,8))\n",
    "    sns.heatmap(confusion_matrix, annot=True, fmt='d', cmap='Blues')\n",
    "    plt.title('Matrice di Confusione')\n",
    "    plt.xlabel('Predizione')\n",
    "    plt.ylabel('Vero Valore')\n",
    "    plt.show()\n",
    "    # report\n",
    "    report = classification_report(true_classes, predicted_classes)\n",
    "    print('Report di Classificazione:')\n",
    "    print(report)"
   ]
  }
 ],
 "metadata": {
  "kernelspec": {
   "display_name": "Python 3",
   "language": "python",
   "name": "python3"
  },
  "language_info": {
   "codemirror_mode": {
    "name": "ipython",
    "version": 3
   },
   "file_extension": ".py",
   "mimetype": "text/x-python",
   "name": "python",
   "nbconvert_exporter": "python",
   "pygments_lexer": "ipython3",
   "version": "3.12.6"
  }
 },
 "nbformat": 4,
 "nbformat_minor": 2
}
